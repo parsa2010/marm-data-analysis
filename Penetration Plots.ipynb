{
 "cells": [
  {
   "cell_type": "code",
   "execution_count": null,
   "id": "8b090451-1532-4dc8-874a-4baf6ebff603",
   "metadata": {},
   "outputs": [],
   "source": [
    "#imports\n",
    "\n",
    "import h5py\n",
    "import numpy as np\n",
    "from scipy import stats\n",
    "from scipy.stats import zscore\n",
    "from matplotlib import pyplot as plt\n",
    "import matplotlib as mpl\n",
    "import matplotlib.cm as cm\n",
    "import matplotlib.patches as mpatches\n",
    "import pickle\n",
    "\n",
    "from sklearn.model_selection import train_test_split\n",
    "from sklearn.decomposition import PCA"
   ]
  },
  {
   "cell_type": "code",
   "execution_count": null,
   "id": "b75dc97c-a101-4473-8d80-f84ef1e902d6",
   "metadata": {},
   "outputs": [],
   "source": [
    "'''\n",
    "Plot params\n",
    "\n",
    "Monkey: West, Bourgeois\n",
    "\n",
    "Neural: SHR\n",
    "    Dataset: Rust, EliasNeptune, Objaverse\n",
    "\n",
    "Fit: Neural Fit, RDM\n",
    "    Model: \n",
    "        Type: trained, untrained\n",
    "        Layer: 1 2 3 4 final\n",
    "    Dataset: Rust, HvM\n",
    "'''"
   ]
  },
  {
   "cell_type": "code",
   "execution_count": null,
   "id": "b5df36cc-ea63-47ce-a83e-9de862e8e035",
   "metadata": {},
   "outputs": [],
   "source": [
    "'''\n",
    "Pens:\n",
    "\n",
    "Rust\n",
    "    Bourgeois\n",
    "        2024 11 08\n",
    "        2024 11 11\n",
    "        2024 11 22\n",
    "        2024 12 05\n",
    "        2024 12 30\n",
    "    West\n",
    "        2024 04 17\n",
    "        2024 04 12\n",
    "        2024 04 10\n",
    "        2024 04 03\n",
    "        2023 11 29\n",
    "        2023 11 30\n",
    "HvM\n",
    "    Bourgeois\n",
    "        2024 11 26\n",
    "        2024 11 27\n",
    "        2024 12 02\n",
    "        2024 12 06\n",
    "        2024 12 27\n",
    "    West\n",
    "        2024 09 12\n",
    "        2024 09 13\n",
    "        2024 09 23\n",
    "        2024 10 02\n",
    "        2024 10 08\n",
    "'''"
   ]
  }
 ],
 "metadata": {
  "kernelspec": {
   "display_name": "Python 3 (ipykernel)",
   "language": "python",
   "name": "python3"
  },
  "language_info": {
   "codemirror_mode": {
    "name": "ipython",
    "version": 3
   },
   "file_extension": ".py",
   "mimetype": "text/x-python",
   "name": "python",
   "nbconvert_exporter": "python",
   "pygments_lexer": "ipython3",
   "version": "3.12.4"
  }
 },
 "nbformat": 4,
 "nbformat_minor": 5
}
