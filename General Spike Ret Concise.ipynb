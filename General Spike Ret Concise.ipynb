{
 "cells": [
  {
   "cell_type": "code",
   "execution_count": 2,
   "id": "ea64659e-f244-4805-96ff-1d2a70e0d5ca",
   "metadata": {},
   "outputs": [],
   "source": [
    "# initial imports\n",
    "\n",
    "import h5py\n",
    "import numpy as np\n",
    "from scipy import stats\n",
    "from sklearn.model_selection import train_test_split\n",
    "from sklearn.metrics import r2_score\n",
    "import pickle\n",
    "import pandas as pd\n",
    "\n",
    "import torchvision\n",
    "import torch\n",
    "from torchvision.io import read_image\n",
    "from torchvision.models import resnet50, ResNet50_Weights\n",
    "import torch.optim as optim\n",
    "\n",
    "\n",
    "import matplotlib as mpl\n",
    "from matplotlib import pyplot as plt"
   ]
  },
  {
   "cell_type": "code",
   "execution_count": 131,
   "id": "dc564bd5-55dd-465d-a083-d53dc2373d06",
   "metadata": {},
   "outputs": [],
   "source": [
    "# Set session, bins\n",
    "year = '2027'\n",
    "month = '04'\n",
    "day = '03'\n",
    "\n",
    "start_bin = -.1\n",
    "end_bin = .301\n",
    "blank_or_nonblank = 'blank'"
   ]
  },
  {
   "cell_type": "code",
   "execution_count": 132,
   "id": "3549721d-2bc3-45c4-bc76-2b39d0646cca",
   "metadata": {},
   "outputs": [
    {
     "data": {
      "text/plain": [
       "['data',\n",
       " 'imro_table',\n",
       " 'stim_indices',\n",
       " 'trial_params',\n",
       " 'trial_params_short',\n",
       " 'zero_coordinates']"
      ]
     },
     "execution_count": 132,
     "metadata": {},
     "output_type": "execute_result"
    }
   ],
   "source": [
    "# Load the data\n",
    "\n",
    "pathname = f'/Users/parsatalaie/Desktop/Marmoset Datasets/{year}{month}{day}_all_psth.h5'\n",
    "\n",
    "f = h5py.File(pathname)\n",
    "list(f.keys())"
   ]
  },
  {
   "cell_type": "code",
   "execution_count": 133,
   "id": "3dc28700-8de9-4484-b288-1de9032b6d68",
   "metadata": {
    "jupyter": {
     "source_hidden": true
    }
   },
   "outputs": [
    {
     "name": "stdout",
     "output_type": "stream",
     "text": [
      "['/Users/parsatalaie/Desktop/Marmoset Data Analysis', '/opt/anaconda3/lib/python312.zip', '/opt/anaconda3/lib/python3.12', '/opt/anaconda3/lib/python3.12/lib-dynload', '', '/opt/anaconda3/lib/python3.12/site-packages', '/opt/anaconda3/lib/python3.12/site-packages/aeosa', '/Users/parsatalaie/Desktop/Issa Data', '/Users/parsatalaie/Desktop/Issa Data', '/Users/parsatalaie/Desktop/Issa Data', '/Users/parsatalaie/Desktop/Issa Data', '/Users/parsatalaie/Desktop/Issa Data', '/Users/parsatalaie/Desktop/Issa Data']\n"
     ]
    }
   ],
   "source": [
    "# Add path to and import mkturk analysis tools\n",
    "\n",
    "from sys import path\n",
    "\n",
    "print(path)\n",
    "\n",
    "path.append('/Users/parsatalaie/Desktop/Issa Data')\n",
    "\n",
    "from data_analysis_tools_mkTurk.utils_meta import get_recording_path\n",
    "from data_analysis_tools_mkTurk.general import df_2_psth_mat\n",
    "from data_analysis_tools_mkTurk.IO import ch_dicts_2_h5, h5_2_trial_df, h5_2_df"
   ]
  },
  {
   "cell_type": "code",
   "execution_count": 134,
   "id": "f6c74fc8-f578-4f73-a7e8-01e7222bcaea",
   "metadata": {
    "jupyter": {
     "source_hidden": true
    },
    "scrolled": true
   },
   "outputs": [
    {
     "name": "stderr",
     "output_type": "stream",
     "text": [
      "/opt/anaconda3/lib/python3.12/site-packages/tables/attributeset.py:290: DataTypeWarning: Unsupported type for attribute 'scenefile_by_stim_mat' in node '/'. Offending HDF5 class: 8\n",
      "  value = self._g_getattr(self._v_node, name)\n"
     ]
    }
   ],
   "source": [
    "# Create, print trial_params\n",
    "\n",
    "trial_params = h5_2_trial_df(pathname)"
   ]
  },
  {
   "cell_type": "code",
   "execution_count": 135,
   "id": "7fd8cf4e-ed81-41c1-aa63-e0335962d1be",
   "metadata": {
    "jupyter": {
     "source_hidden": true
    }
   },
   "outputs": [
    {
     "data": {
      "text/plain": [
       "array(['/mkturkfiles/scenebags/West/BlankStim_300ms.json',\n",
       "       '/mkturkfiles/scenebags/West/neural_stim_4_0ABCDEFGHIJ.json',\n",
       "       '/mkturkfiles/scenebags/West/20231025_Rust_NaturalImages300_300ms.json',\n",
       "       '/mkturkfiles/scenebags/West/20231025_Var6vbslir_set0_im151_elias_dur300ms_lab_updated.json',\n",
       "       '/mkturkfiles/scenebags/West/20231025_Var6vbslir_set0_im151_neptune_dur300ms_lab_updated.json'],\n",
       "      dtype=object)"
      ]
     },
     "execution_count": 135,
     "metadata": {},
     "output_type": "execute_result"
    }
   ],
   "source": [
    "# List scenefiles\n",
    "\n",
    "trial_params['scenefile'].unique()"
   ]
  },
  {
   "cell_type": "code",
   "execution_count": 136,
   "id": "e7f6125c-3b09-45fc-b036-096b573203c4",
   "metadata": {},
   "outputs": [],
   "source": [
    "# Rust\n",
    "scenefiles = ['/mkturkfiles/scenebags/West/20231025_Rust_NaturalImages300_300ms.json']"
   ]
  },
  {
   "cell_type": "code",
   "execution_count": 24,
   "id": "a04ecb07-bae9-4669-9e60-3a4d9b3b9890",
   "metadata": {},
   "outputs": [],
   "source": [
    "# HvM\n",
    "scenefiles = ['/mkturkfiles/scenebags/West/hvm10_table_45_20240906.json',\n",
    "       '/mkturkfiles/scenebags/West/hvm10_elephant_45_20240906.json',\n",
    "       '/mkturkfiles/scenebags/West/hvm10_dog_45_20240906.json',\n",
    "       '/mkturkfiles/scenebags/West/hvm10_bear_45_20240906.json',\n",
    "       '/mkturkfiles/scenebags/West/hvm10_chair_45_20240906.json',\n",
    "       '/mkturkfiles/scenebags/West/hvm10_car_45_20240906.json',\n",
    "       '/mkturkfiles/scenebags/West/hvm10_turtle_45_20240906.json',\n",
    "       '/mkturkfiles/scenebags/West/hvm10_plane_45_20240906.json',\n",
    "       '/mkturkfiles/scenebags/West/hvm10_apple_45_20240906.json',\n",
    "       '/mkturkfiles/scenebags/West/hvm10_head_45_20240906.json']"
   ]
  },
  {
   "cell_type": "code",
   "execution_count": 137,
   "id": "4c0db365-32ac-4854-8456-1813cd80168c",
   "metadata": {
    "scrolled": true
   },
   "outputs": [
    {
     "name": "stdout",
     "output_type": "stream",
     "text": [
      "Fetching trial parameters...\n",
      "... done (0.021474599838256836 sec).\n",
      "inds_df.shape = (4050, 2)\n"
     ]
    },
    {
     "name": "stderr",
     "output_type": "stream",
     "text": [
      "/opt/anaconda3/lib/python3.12/site-packages/tables/attributeset.py:290: DataTypeWarning: Unsupported type for attribute 'scenefile_by_stim_mat' in node '/'. Offending HDF5 class: 8\n",
      "  value = self._g_getattr(self._v_node, name)\n"
     ]
    },
    {
     "name": "stdout",
     "output_type": "stream",
     "text": [
      "Pre-fetching PSTHs from HDF5...\n",
      "... done.\n",
      "Duration=0.011935516198476156 minutes\n",
      "Fancy slicing numpy array...\n",
      "... done.\n",
      "Duration=0.00904009739557902 minutes\n"
     ]
    }
   ],
   "source": [
    "# Select stimulus presentations associated with requested scenefiles:\n",
    "filter = trial_params.scenefile.isin(scenefiles)\n",
    "rust_trials = trial_params[filter]\n",
    "array_filter = np.array(rust_trials[['trial_num', 'rsvp_num']])\n",
    "\n",
    "# Read spike count data from HDF5 for requested trials:\n",
    "time_window = [start_bin, end_bin] # Beginning and end of peristimulus time window for each stim, relative to trigger in seconds\n",
    "rust_data = h5_2_df(pathname, trials=array_filter, time_window=time_window)\n",
    "\n",
    "# Sort rust_data to match trial_params, rust_trials\n",
    "rust_data.sort_index(inplace=True)"
   ]
  },
  {
   "cell_type": "code",
   "execution_count": 138,
   "id": "2518320c-65f7-42d5-aeb0-806f7105ced5",
   "metadata": {},
   "outputs": [
    {
     "data": {
      "text/plain": [
       "(3364, 12)"
      ]
     },
     "execution_count": 138,
     "metadata": {},
     "output_type": "execute_result"
    }
   ],
   "source": [
    "# Create + apply mask to remove nans\n",
    "mask = rust_data.apply(lambda x : np.all(np.isnan(x.psth)), axis=1)\n",
    "final_df = rust_data[-mask]\n",
    "final_df.shape"
   ]
  },
  {
   "cell_type": "code",
   "execution_count": 139,
   "id": "becfa530-63af-4916-87d1-bcfa0bea68f3",
   "metadata": {},
   "outputs": [
    {
     "data": {
      "text/plain": [
       "(3364, 384, 40)"
      ]
     },
     "execution_count": 139,
     "metadata": {},
     "output_type": "execute_result"
    }
   ],
   "source": [
    "# Convert psth to spike matrix\n",
    "final_spike_arr = np.array(list(final_df.psth))\n",
    "final_spike_arr.shape"
   ]
  },
  {
   "cell_type": "code",
   "execution_count": 140,
   "id": "f74644eb-1730-48e2-a64e-275d411854b3",
   "metadata": {},
   "outputs": [
    {
     "data": {
      "text/plain": [
       "0"
      ]
     },
     "execution_count": 140,
     "metadata": {},
     "output_type": "execute_result"
    }
   ],
   "source": [
    "# Check for remaining nan\n",
    "np.isnan(final_spike_arr).sum()"
   ]
  },
  {
   "cell_type": "code",
   "execution_count": 141,
   "id": "1ef4ea59-3cb6-40f8-b7a7-65ebe8f71f19",
   "metadata": {},
   "outputs": [
    {
     "data": {
      "text/plain": [
       "(3364, 384)"
      ]
     },
     "execution_count": 141,
     "metadata": {},
     "output_type": "execute_result"
    }
   ],
   "source": [
    "# Create avg_spikes\n",
    "avg_spikes = np.mean(final_spike_arr, axis=2)\n",
    "avg_spikes.shape"
   ]
  },
  {
   "cell_type": "code",
   "execution_count": 142,
   "id": "ff435887-b53a-4b3b-a52d-5571b03b98e8",
   "metadata": {},
   "outputs": [
    {
     "data": {
      "text/plain": [
       "3364"
      ]
     },
     "execution_count": 142,
     "metadata": {},
     "output_type": "execute_result"
    }
   ],
   "source": [
    "# Create natimg_path_list\n",
    "path_series = final_df['stim_idx'].apply(lambda x : \n",
    "                                           f'/Users/parsatalaie/Downloads/rust_natimgs/Nat300_{x+1}.png')\n",
    "natimg_path_list = path_series.tolist()\n",
    "len(natimg_path_list)"
   ]
  },
  {
   "cell_type": "code",
   "execution_count": 31,
   "id": "ea9c0aa2-db97-4d2f-a790-9c37a5c34472",
   "metadata": {},
   "outputs": [
    {
     "data": {
      "text/plain": [
       "8585"
      ]
     },
     "execution_count": 31,
     "metadata": {},
     "output_type": "execute_result"
    }
   ],
   "source": [
    "# HVM NATIMG_PATH_LIST\n",
    "start_idx = 51\n",
    "alter_hvm_path = lambda hvm_path : '/Users/parsatalaie/Desktop/Marmoset Datasets/' + hvm_path[start_idx:]\n",
    "natimg_paths = final_df['img_full_path'].apply(alter_hvm_path)\n",
    "natimg_path_list = natimg_paths.tolist()\n",
    "len(natimg_path_list)"
   ]
  },
  {
   "cell_type": "code",
   "execution_count": 143,
   "id": "b573ac12-0730-42d9-8701-ed2d903533f1",
   "metadata": {},
   "outputs": [],
   "source": [
    "year = '2027'"
   ]
  },
  {
   "cell_type": "code",
   "execution_count": 144,
   "id": "4d954d43-b123-4fba-9e7c-4a031239002b",
   "metadata": {},
   "outputs": [
    {
     "data": {
      "text/plain": [
       "(384, 3364)"
      ]
     },
     "execution_count": 144,
     "metadata": {},
     "output_type": "execute_result"
    }
   ],
   "source": [
    "avg_spikes = avg_spikes.transpose()\n",
    "avg_spikes.shape"
   ]
  },
  {
   "cell_type": "code",
   "execution_count": 145,
   "id": "fd0f05ca-7e66-45e9-a794-efec8e00d8f4",
   "metadata": {},
   "outputs": [],
   "source": [
    "# Save avg_spikes\n",
    "np.save(f'./{year}_{month}_{day}/marm_avg_spikes_{year}{month}{day}', avg_spikes)"
   ]
  },
  {
   "cell_type": "code",
   "execution_count": 146,
   "id": "3cdfd1dc-2a08-42a7-be90-97f925c0d294",
   "metadata": {},
   "outputs": [],
   "source": [
    "# pickle it\n",
    "\n",
    "import pickle\n",
    "\n",
    "with open(f'./{year}_{month}_{day}/natimg_path_list_{year}{month}{day}', 'wb') as fp:   #Pickling\n",
    "    pickle.dump(natimg_path_list, fp)"
   ]
  },
  {
   "cell_type": "code",
   "execution_count": null,
   "id": "289ee91e-359f-4311-9ad6-95fae826dafe",
   "metadata": {},
   "outputs": [],
   "source": []
  },
  {
   "cell_type": "code",
   "execution_count": null,
   "id": "d34a6325-60d1-436f-9aa6-ee2dd6298450",
   "metadata": {},
   "outputs": [],
   "source": []
  },
  {
   "cell_type": "code",
   "execution_count": null,
   "id": "901e7ff0-e5dc-4886-aee8-591d6bf5b328",
   "metadata": {},
   "outputs": [],
   "source": [
    "'''\n",
    "Check if issue is filtering of df: start with all trials\n",
    "'''"
   ]
  },
  {
   "cell_type": "code",
   "execution_count": 41,
   "id": "6c51b498-46d2-4227-8a63-e60a7c975d0b",
   "metadata": {},
   "outputs": [
    {
     "name": "stdout",
     "output_type": "stream",
     "text": [
      "Fetching trial parameters...\n",
      "... done (0.02410578727722168 sec).\n",
      "Pre-fetching PSTHs from HDF5...\n"
     ]
    },
    {
     "name": "stderr",
     "output_type": "stream",
     "text": [
      "/opt/anaconda3/lib/python3.12/site-packages/tables/attributeset.py:290: DataTypeWarning: Unsupported type for attribute 'scenefile_by_stim_mat' in node '/'. Offending HDF5 class: 8\n",
      "  value = self._g_getattr(self._v_node, name)\n"
     ]
    },
    {
     "name": "stdout",
     "output_type": "stream",
     "text": [
      "... done.\n",
      "Duration=0.01466134786605835 minutes\n",
      "Fancy slicing numpy array...\n",
      "... done.\n",
      "Duration=0.01987988551457723 minutes\n"
     ]
    }
   ],
   "source": [
    "# h5_2_df the whole file (same time_window)\n",
    "\n",
    "time_window = [start_bin, end_bin]\n",
    "all_data = h5_2_df(pathname, time_window=time_window)"
   ]
  },
  {
   "cell_type": "code",
   "execution_count": null,
   "id": "d244bf8c-cf64-46ae-9c65-acb757fe279b",
   "metadata": {},
   "outputs": [],
   "source": []
  },
  {
   "cell_type": "code",
   "execution_count": null,
   "id": "e920dac6-4d0b-464e-af34-390ae58a2ac7",
   "metadata": {},
   "outputs": [],
   "source": []
  },
  {
   "cell_type": "code",
   "execution_count": 47,
   "id": "bc4217de-76c9-4da4-b5b2-4c3faf571b91",
   "metadata": {},
   "outputs": [],
   "source": [
    "scenefile_mask = all_data['scenefile'] == '/mkturkfiles/scenebags/West/20231025_Rust_NaturalImages300_300ms.json'\n",
    "test_all_data = all_data[scenefile_mask]"
   ]
  },
  {
   "cell_type": "code",
   "execution_count": 57,
   "id": "01071afc-0610-4894-b13b-391478327fa7",
   "metadata": {},
   "outputs": [],
   "source": [
    "x = test_all_data.sort_values(by='rsvp_num')['stim_idx'].tolist()\n",
    "y = ''.join(str(i) for i in x)"
   ]
  },
  {
   "cell_type": "code",
   "execution_count": null,
   "id": "0a5f9d72-18d8-4eb5-bbb5-c45557ef4563",
   "metadata": {},
   "outputs": [],
   "source": []
  },
  {
   "cell_type": "code",
   "execution_count": null,
   "id": "0f2c824e-c1e6-4393-8749-98a9b2ba1fda",
   "metadata": {},
   "outputs": [],
   "source": []
  },
  {
   "cell_type": "code",
   "execution_count": 42,
   "id": "d392b131-d5b5-414c-b34a-5fd69f7e76e6",
   "metadata": {},
   "outputs": [
    {
     "data": {
      "text/plain": [
       "(3364, 11)"
      ]
     },
     "execution_count": 42,
     "metadata": {},
     "output_type": "execute_result"
    }
   ],
   "source": [
    "# Apply masks\n",
    "\n",
    "nan_mask = all_data.apply(lambda x : np.all(np.isnan(x.psth)), axis=1)\n",
    "fix_all_data = all_data[-nan_mask]\n",
    "scenefile_mask = fix_all_data['scenefile'] == '/mkturkfiles/scenebags/West/20231025_Rust_NaturalImages300_300ms.json'\n",
    "final_all_data = fix_all_data[scenefile_mask]\n",
    "final_all_data.shape"
   ]
  },
  {
   "cell_type": "code",
   "execution_count": 43,
   "id": "b1244092-bcde-4b9f-a70f-57d9d7452fe3",
   "metadata": {},
   "outputs": [
    {
     "name": "stdout",
     "output_type": "stream",
     "text": [
      "(3364, 384)\n"
     ]
    },
    {
     "data": {
      "text/plain": [
       "3364"
      ]
     },
     "execution_count": 43,
     "metadata": {},
     "output_type": "execute_result"
    }
   ],
   "source": [
    "# Convert psth to spike matrix\n",
    "final_spike_arr = np.array(list(final_all_data.psth))\n",
    "final_spike_arr.shape\n",
    "\n",
    "# Check for remaining nan\n",
    "np.isnan(final_spike_arr).sum()\n",
    "\n",
    "# Create avg_spikes\n",
    "avg_spikes = np.mean(final_spike_arr, axis=2)\n",
    "print(avg_spikes.shape)\n",
    "\n",
    "# Create natimg_path_list\n",
    "path_series = final_all_data['stim_idx'].apply(lambda x : \n",
    "                                           f'/Users/parsatalaie/Downloads/rust_natimgs/Nat300_{x+1}.png')\n",
    "natimg_path_list = path_series.tolist()\n",
    "len(natimg_path_list)"
   ]
  },
  {
   "cell_type": "code",
   "execution_count": 45,
   "id": "7a3eb918-de70-4602-a360-4d040e5653d5",
   "metadata": {},
   "outputs": [
    {
     "data": {
      "text/html": [
       "<div>\n",
       "<style scoped>\n",
       "    .dataframe tbody tr th:only-of-type {\n",
       "        vertical-align: middle;\n",
       "    }\n",
       "\n",
       "    .dataframe tbody tr th {\n",
       "        vertical-align: top;\n",
       "    }\n",
       "\n",
       "    .dataframe thead th {\n",
       "        text-align: right;\n",
       "    }\n",
       "</style>\n",
       "<table border=\"1\" class=\"dataframe\">\n",
       "  <thead>\n",
       "    <tr style=\"text-align: right;\">\n",
       "      <th></th>\n",
       "      <th>monkey</th>\n",
       "      <th>date</th>\n",
       "      <th>trial_num</th>\n",
       "      <th>rsvp_num</th>\n",
       "      <th>stim_id</th>\n",
       "      <th>stim_idx</th>\n",
       "      <th>scenefile</th>\n",
       "      <th>img_full_path</th>\n",
       "      <th>psth_bins</th>\n",
       "      <th>source_path</th>\n",
       "      <th>psth</th>\n",
       "    </tr>\n",
       "  </thead>\n",
       "  <tbody>\n",
       "    <tr>\n",
       "      <th>12</th>\n",
       "      <td>West</td>\n",
       "      <td>20240403</td>\n",
       "      <td>372</td>\n",
       "      <td>0</td>\n",
       "      <td>RustDiCarlo/1_sz_0.8_light00_posX_0_posY_1_pos...</td>\n",
       "      <td>1</td>\n",
       "      <td>/mkturkfiles/scenebags/West/20231025_Rust_Natu...</td>\n",
       "      <td>/mnt/smb/locker/issa-locker/Data/West/Saved_Im...</td>\n",
       "      <td>[-0.1, -0.09000000000000001, -0.08, -0.07, -0....</td>\n",
       "      <td>/Users/parsatalaie/Desktop/Marmoset Datasets/2...</td>\n",
       "      <td>[[0.0, 0.0, 0.0, 0.0, 0.0, 0.0, 0.0, 0.0, 0.0,...</td>\n",
       "    </tr>\n",
       "    <tr>\n",
       "      <th>451</th>\n",
       "      <td>West</td>\n",
       "      <td>20240403</td>\n",
       "      <td>372</td>\n",
       "      <td>1</td>\n",
       "      <td>RustDiCarlo/34_sz_0.8_light00_posX_0_posY_1_po...</td>\n",
       "      <td>34</td>\n",
       "      <td>/mkturkfiles/scenebags/West/20231025_Rust_Natu...</td>\n",
       "      <td>/mnt/smb/locker/issa-locker/Data/West/Saved_Im...</td>\n",
       "      <td>[-0.1, -0.09000000000000001, -0.08, -0.07, -0....</td>\n",
       "      <td>/Users/parsatalaie/Desktop/Marmoset Datasets/2...</td>\n",
       "      <td>[[1.0, 0.0, 0.0, 1.0, 0.0, 1.0, 0.0, 0.0, 0.0,...</td>\n",
       "    </tr>\n",
       "    <tr>\n",
       "      <th>543</th>\n",
       "      <td>West</td>\n",
       "      <td>20240403</td>\n",
       "      <td>372</td>\n",
       "      <td>2</td>\n",
       "      <td>RustDiCarlo/41_sz_0.8_light00_posX_0_posY_1_po...</td>\n",
       "      <td>41</td>\n",
       "      <td>/mkturkfiles/scenebags/West/20231025_Rust_Natu...</td>\n",
       "      <td>/mnt/smb/locker/issa-locker/Data/West/Saved_Im...</td>\n",
       "      <td>[-0.1, -0.09000000000000001, -0.08, -0.07, -0....</td>\n",
       "      <td>/Users/parsatalaie/Desktop/Marmoset Datasets/2...</td>\n",
       "      <td>[[1.0, 0.0, 0.0, 0.0, 0.0, 1.0, 0.0, 0.0, 0.0,...</td>\n",
       "    </tr>\n",
       "    <tr>\n",
       "      <th>3002</th>\n",
       "      <td>West</td>\n",
       "      <td>20240403</td>\n",
       "      <td>373</td>\n",
       "      <td>0</td>\n",
       "      <td>RustDiCarlo/226_sz_0.8_light00_posX_0_posY_1_p...</td>\n",
       "      <td>226</td>\n",
       "      <td>/mkturkfiles/scenebags/West/20231025_Rust_Natu...</td>\n",
       "      <td>/mnt/smb/locker/issa-locker/Data/West/Saved_Im...</td>\n",
       "      <td>[-0.1, -0.09000000000000001, -0.08, -0.07, -0....</td>\n",
       "      <td>/Users/parsatalaie/Desktop/Marmoset Datasets/2...</td>\n",
       "      <td>[[0.0, 0.0, 0.0, 0.0, 0.0, 1.0, 0.0, 0.0, 1.0,...</td>\n",
       "    </tr>\n",
       "    <tr>\n",
       "      <th>1764</th>\n",
       "      <td>West</td>\n",
       "      <td>20240403</td>\n",
       "      <td>373</td>\n",
       "      <td>1</td>\n",
       "      <td>RustDiCarlo/133_sz_0.8_light00_posX_0_posY_1_p...</td>\n",
       "      <td>133</td>\n",
       "      <td>/mkturkfiles/scenebags/West/20231025_Rust_Natu...</td>\n",
       "      <td>/mnt/smb/locker/issa-locker/Data/West/Saved_Im...</td>\n",
       "      <td>[-0.1, -0.09000000000000001, -0.08, -0.07, -0....</td>\n",
       "      <td>/Users/parsatalaie/Desktop/Marmoset Datasets/2...</td>\n",
       "      <td>[[1.0, 0.0, 0.0, 1.0, 0.0, 0.0, 0.0, 0.0, 1.0,...</td>\n",
       "    </tr>\n",
       "  </tbody>\n",
       "</table>\n",
       "</div>"
      ],
      "text/plain": [
       "     monkey      date  trial_num  rsvp_num  \\\n",
       "12     West  20240403        372         0   \n",
       "451    West  20240403        372         1   \n",
       "543    West  20240403        372         2   \n",
       "3002   West  20240403        373         0   \n",
       "1764   West  20240403        373         1   \n",
       "\n",
       "                                                stim_id  stim_idx  \\\n",
       "12    RustDiCarlo/1_sz_0.8_light00_posX_0_posY_1_pos...         1   \n",
       "451   RustDiCarlo/34_sz_0.8_light00_posX_0_posY_1_po...        34   \n",
       "543   RustDiCarlo/41_sz_0.8_light00_posX_0_posY_1_po...        41   \n",
       "3002  RustDiCarlo/226_sz_0.8_light00_posX_0_posY_1_p...       226   \n",
       "1764  RustDiCarlo/133_sz_0.8_light00_posX_0_posY_1_p...       133   \n",
       "\n",
       "                                              scenefile  \\\n",
       "12    /mkturkfiles/scenebags/West/20231025_Rust_Natu...   \n",
       "451   /mkturkfiles/scenebags/West/20231025_Rust_Natu...   \n",
       "543   /mkturkfiles/scenebags/West/20231025_Rust_Natu...   \n",
       "3002  /mkturkfiles/scenebags/West/20231025_Rust_Natu...   \n",
       "1764  /mkturkfiles/scenebags/West/20231025_Rust_Natu...   \n",
       "\n",
       "                                          img_full_path  \\\n",
       "12    /mnt/smb/locker/issa-locker/Data/West/Saved_Im...   \n",
       "451   /mnt/smb/locker/issa-locker/Data/West/Saved_Im...   \n",
       "543   /mnt/smb/locker/issa-locker/Data/West/Saved_Im...   \n",
       "3002  /mnt/smb/locker/issa-locker/Data/West/Saved_Im...   \n",
       "1764  /mnt/smb/locker/issa-locker/Data/West/Saved_Im...   \n",
       "\n",
       "                                              psth_bins  \\\n",
       "12    [-0.1, -0.09000000000000001, -0.08, -0.07, -0....   \n",
       "451   [-0.1, -0.09000000000000001, -0.08, -0.07, -0....   \n",
       "543   [-0.1, -0.09000000000000001, -0.08, -0.07, -0....   \n",
       "3002  [-0.1, -0.09000000000000001, -0.08, -0.07, -0....   \n",
       "1764  [-0.1, -0.09000000000000001, -0.08, -0.07, -0....   \n",
       "\n",
       "                                            source_path  \\\n",
       "12    /Users/parsatalaie/Desktop/Marmoset Datasets/2...   \n",
       "451   /Users/parsatalaie/Desktop/Marmoset Datasets/2...   \n",
       "543   /Users/parsatalaie/Desktop/Marmoset Datasets/2...   \n",
       "3002  /Users/parsatalaie/Desktop/Marmoset Datasets/2...   \n",
       "1764  /Users/parsatalaie/Desktop/Marmoset Datasets/2...   \n",
       "\n",
       "                                                   psth  \n",
       "12    [[0.0, 0.0, 0.0, 0.0, 0.0, 0.0, 0.0, 0.0, 0.0,...  \n",
       "451   [[1.0, 0.0, 0.0, 1.0, 0.0, 1.0, 0.0, 0.0, 0.0,...  \n",
       "543   [[1.0, 0.0, 0.0, 0.0, 0.0, 1.0, 0.0, 0.0, 0.0,...  \n",
       "3002  [[0.0, 0.0, 0.0, 0.0, 0.0, 1.0, 0.0, 0.0, 1.0,...  \n",
       "1764  [[1.0, 0.0, 0.0, 1.0, 0.0, 0.0, 0.0, 0.0, 1.0,...  "
      ]
     },
     "execution_count": 45,
     "metadata": {},
     "output_type": "execute_result"
    }
   ],
   "source": [
    "final_all_data.head()"
   ]
  },
  {
   "cell_type": "code",
   "execution_count": null,
   "id": "6b008453-3d19-45da-837b-60cd3d8ac174",
   "metadata": {},
   "outputs": [],
   "source": []
  },
  {
   "cell_type": "code",
   "execution_count": null,
   "id": "3628227a-ec79-447e-a279-babb75393c86",
   "metadata": {},
   "outputs": [],
   "source": []
  },
  {
   "cell_type": "code",
   "execution_count": 44,
   "id": "241be953-397a-4c6b-b407-e5fe44ce96b3",
   "metadata": {
    "collapsed": true,
    "jupyter": {
     "outputs_hidden": true
    },
    "scrolled": true
   },
   "outputs": [
    {
     "ename": "NameError",
     "evalue": "name 'final_df' is not defined",
     "output_type": "error",
     "traceback": [
      "\u001b[0;31m---------------------------------------------------------------------------\u001b[0m",
      "\u001b[0;31mNameError\u001b[0m                                 Traceback (most recent call last)",
      "Cell \u001b[0;32mIn[44], line 4\u001b[0m\n\u001b[1;32m      1\u001b[0m \u001b[38;5;66;03m# Check if equivalent\u001b[39;00m\n\u001b[1;32m      3\u001b[0m \u001b[38;5;28;01mtry\u001b[39;00m:\n\u001b[0;32m----> 4\u001b[0m     pd\u001b[38;5;241m.\u001b[39mtesting\u001b[38;5;241m.\u001b[39massert_frame_equal(final_all_data\u001b[38;5;241m.\u001b[39msort_index(), final_df)\n\u001b[1;32m      5\u001b[0m     \u001b[38;5;28mprint\u001b[39m(\u001b[38;5;124m\"\u001b[39m\u001b[38;5;124mDataFrames are identical\u001b[39m\u001b[38;5;124m\"\u001b[39m)\n\u001b[1;32m      6\u001b[0m \u001b[38;5;28;01mexcept\u001b[39;00m \u001b[38;5;167;01mAssertionError\u001b[39;00m:\n",
      "\u001b[0;31mNameError\u001b[0m: name 'final_df' is not defined"
     ]
    }
   ],
   "source": [
    "# Check if equivalent\n",
    "\n",
    "try:\n",
    "    pd.testing.assert_frame_equal(final_all_data.sort_index(), final_df)\n",
    "    print(\"DataFrames are identical\")\n",
    "except AssertionError:\n",
    "    print(\"DataFrames are different\")"
   ]
  },
  {
   "cell_type": "code",
   "execution_count": null,
   "id": "0fbb43d1-77c9-4fc6-aac6-2468f4df45bf",
   "metadata": {},
   "outputs": [],
   "source": []
  },
  {
   "cell_type": "code",
   "execution_count": null,
   "id": "646d831a-18d5-48c9-b2c4-24e1fd56a2a5",
   "metadata": {},
   "outputs": [],
   "source": []
  },
  {
   "cell_type": "code",
   "execution_count": 7,
   "id": "b37503dd-d73a-457a-81bd-1ca79f8f8be9",
   "metadata": {},
   "outputs": [],
   "source": [
    "year = '2026'"
   ]
  },
  {
   "cell_type": "code",
   "execution_count": 5,
   "id": "d57ea05b-a5bd-49a1-9b98-3c73a5870532",
   "metadata": {},
   "outputs": [],
   "source": [
    "# Create new_ch_depth\n",
    "\n",
    "coords = f['site_coordinates']\n",
    "depth_ch_idx = coords['axis1'][:]\n",
    "\n",
    "new_ch_depth = np.zeros((384))\n",
    "\n",
    "for i in range(384):\n",
    "    idx = depth_ch_idx[i]\n",
    "    new_ch_depth[i] = coords['block0_values'][:][:, 3][idx]"
   ]
  },
  {
   "cell_type": "code",
   "execution_count": 8,
   "id": "250f5228-cdf0-4ceb-a1f8-a17ccdab768c",
   "metadata": {},
   "outputs": [],
   "source": [
    "# Save list of ch depths\n",
    "\n",
    "np.save(f'./{year}_{month}_{day}/ch_depth_{year}{month}{day}', new_ch_depth)"
   ]
  },
  {
   "cell_type": "code",
   "execution_count": null,
   "id": "f6721286-320a-4939-995f-a8eab0e4120a",
   "metadata": {},
   "outputs": [],
   "source": []
  }
 ],
 "metadata": {
  "kernelspec": {
   "display_name": "Python 3 (ipykernel)",
   "language": "python",
   "name": "python3"
  },
  "language_info": {
   "codemirror_mode": {
    "name": "ipython",
    "version": 3
   },
   "file_extension": ".py",
   "mimetype": "text/x-python",
   "name": "python",
   "nbconvert_exporter": "python",
   "pygments_lexer": "ipython3",
   "version": "3.12.4"
  }
 },
 "nbformat": 4,
 "nbformat_minor": 5
}
