{
 "cells": [
  {
   "cell_type": "code",
   "execution_count": 1,
   "id": "ea64659e-f244-4805-96ff-1d2a70e0d5ca",
   "metadata": {},
   "outputs": [],
   "source": [
    "# initial imports\n",
    "\n",
    "import h5py\n",
    "import numpy as np\n",
    "from scipy import stats\n",
    "from sklearn.model_selection import train_test_split\n",
    "from sklearn.metrics import r2_score\n",
    "import pickle\n",
    "import pandas as pd\n",
    "\n",
    "import torchvision\n",
    "import torch\n",
    "from torchvision.io import read_image\n",
    "from torchvision.models import resnet50, ResNet50_Weights\n",
    "import torch.optim as optim\n",
    "\n",
    "\n",
    "import matplotlib as mpl\n",
    "from matplotlib import pyplot as plt\n",
    "\n",
    "import os\n",
    "import re"
   ]
  },
  {
   "cell_type": "code",
   "execution_count": 2,
   "id": "b91aaf07-db00-427f-961c-10ae4a144e84",
   "metadata": {},
   "outputs": [
    {
     "data": {
      "text/plain": [
       "['data',\n",
       " 'site_coordinates',\n",
       " 'stim_indices',\n",
       " 'trial_params',\n",
       " 'trial_params_short']"
      ]
     },
     "execution_count": 2,
     "metadata": {},
     "output_type": "execute_result"
    }
   ],
   "source": [
    "# Set parameters, load data\n",
    "year = '2024'\n",
    "month = '12'\n",
    "day = '05'\n",
    "\n",
    "monkey = 'Bourgeois'\n",
    "\n",
    "start_bin = -.1\n",
    "end_bin = .301\n",
    "blank_or_nonblank = 'blank'\n",
    "\n",
    "pathname = f'/Users/parsatalaie/Desktop/Marmoset Datasets/{year}{month}{day}_all_psth.h5'\n",
    "\n",
    "f = h5py.File(pathname)\n",
    "list(f.keys())"
   ]
  },
  {
   "cell_type": "code",
   "execution_count": 3,
   "id": "3dc28700-8de9-4484-b288-1de9032b6d68",
   "metadata": {
    "jupyter": {
     "source_hidden": true
    }
   },
   "outputs": [
    {
     "name": "stdout",
     "output_type": "stream",
     "text": [
      "['/Users/parsatalaie/Desktop/Marmoset Data Analysis', '/opt/anaconda3/lib/python312.zip', '/opt/anaconda3/lib/python3.12', '/opt/anaconda3/lib/python3.12/lib-dynload', '', '/opt/anaconda3/lib/python3.12/site-packages', '/opt/anaconda3/lib/python3.12/site-packages/aeosa']\n"
     ]
    },
    {
     "name": "stderr",
     "output_type": "stream",
     "text": [
      "/Users/parsatalaie/Desktop/Issa Data/data_analysis_tools_mkTurk/general.py:23: UserWarning: Failed to import analysis_metadata module.\n",
      "  warnings.warn('Failed to import analysis_metadata module.')\n",
      "/Users/parsatalaie/Desktop/Issa Data/data_analysis_tools_mkTurk/IO.py:21: UserWarning: Failed to import analysis_metadata module.\n",
      "  warnings.warn('Failed to import analysis_metadata module.')\n"
     ]
    }
   ],
   "source": [
    "# Add path to and import mkturk analysis tools\n",
    "\n",
    "from sys import path\n",
    "\n",
    "print(path)\n",
    "\n",
    "path.append('/Users/parsatalaie/Desktop/Issa Data')\n",
    "\n",
    "from data_analysis_tools_mkTurk.utils_meta import get_recording_path\n",
    "from data_analysis_tools_mkTurk.general import df_2_psth_mat\n",
    "from data_analysis_tools_mkTurk.IO import ch_dicts_2_h5, h5_2_trial_df, h5_2_df\n",
    "from data_analysis_tools_mkTurk.npix import chs_meta_2_site_coords"
   ]
  },
  {
   "cell_type": "code",
   "execution_count": 4,
   "id": "f6c74fc8-f578-4f73-a7e8-01e7222bcaea",
   "metadata": {
    "scrolled": true
   },
   "outputs": [
    {
     "name": "stderr",
     "output_type": "stream",
     "text": [
      "/opt/anaconda3/lib/python3.12/site-packages/tables/attributeset.py:290: DataTypeWarning: Unsupported type for attribute 'scenefile_by_stim_mat' in node '/'. Offending HDF5 class: 8\n",
      "  value = self._g_getattr(self._v_node, name)\n"
     ]
    }
   ],
   "source": [
    "# Create, print trial_params\n",
    "\n",
    "trial_params = h5_2_trial_df(pathname)"
   ]
  },
  {
   "cell_type": "code",
   "execution_count": 5,
   "id": "7fd8cf4e-ed81-41c1-aa63-e0335962d1be",
   "metadata": {},
   "outputs": [
    {
     "data": {
      "text/plain": [
       "array(['/mkturkfiles/scenebags/West/BlankStim_300ms.json',\n",
       "       '/mkturkfiles/scenebags/West/neural_stim_4_0ABCDEFGHIJ.json',\n",
       "       '/mkturkfiles/scenebags/West/20231025_Rust_NaturalImages300_300ms.json',\n",
       "       '/mkturkfiles/scenebags/West/20231025_Var6vbslir_set0_im151_neptune_dur300ms_lab_updated.json',\n",
       "       '/mkturkfiles/scenebags/West/20231025_Var6vbslir_set0_im151_elias_dur300ms_lab_updated.json'],\n",
       "      dtype=object)"
      ]
     },
     "execution_count": 5,
     "metadata": {},
     "output_type": "execute_result"
    }
   ],
   "source": [
    "# List scenefiles\n",
    "\n",
    "trial_params['scenefile'].unique()"
   ]
  },
  {
   "cell_type": "code",
   "execution_count": 6,
   "id": "e7f6125c-3b09-45fc-b036-096b573203c4",
   "metadata": {},
   "outputs": [],
   "source": [
    "# Rust\n",
    "scenefiles = ['/mkturkfiles/scenebags/West/20231025_Rust_NaturalImages300_300ms.json']"
   ]
  },
  {
   "cell_type": "code",
   "execution_count": 6,
   "id": "93b69834-c96a-4544-b186-a4d295ccd272",
   "metadata": {},
   "outputs": [],
   "source": [
    "# Objaverse\n",
    "scenefiles = ['/mkturkfiles/scenebags/West/neural_stim_4_0ABCDEFGHIJ.json']"
   ]
  },
  {
   "cell_type": "code",
   "execution_count": 7,
   "id": "a04ecb07-bae9-4669-9e60-3a4d9b3b9890",
   "metadata": {},
   "outputs": [],
   "source": [
    "# HvM\n",
    "scenefiles = ['/mkturkfiles/scenebags/West/hvm10_table_45_20240906.json',\n",
    "       '/mkturkfiles/scenebags/West/hvm10_elephant_45_20240906.json',\n",
    "       '/mkturkfiles/scenebags/West/hvm10_dog_45_20240906.json',\n",
    "       '/mkturkfiles/scenebags/West/hvm10_bear_45_20240906.json',\n",
    "       '/mkturkfiles/scenebags/West/hvm10_chair_45_20240906.json',\n",
    "       '/mkturkfiles/scenebags/West/hvm10_car_45_20240906.json',\n",
    "       '/mkturkfiles/scenebags/West/hvm10_turtle_45_20240906.json',\n",
    "       '/mkturkfiles/scenebags/West/hvm10_plane_45_20240906.json',\n",
    "       '/mkturkfiles/scenebags/West/hvm10_apple_45_20240906.json',\n",
    "       '/mkturkfiles/scenebags/West/hvm10_head_45_20240906.json']"
   ]
  },
  {
   "cell_type": "code",
   "execution_count": 7,
   "id": "4c0db365-32ac-4854-8456-1813cd80168c",
   "metadata": {
    "scrolled": true
   },
   "outputs": [
    {
     "name": "stdout",
     "output_type": "stream",
     "text": [
      "Fetching trial parameters...\n",
      "... done (0.022207021713256836 sec).\n",
      "inds_df.shape = (900, 2)\n",
      "Pre-fetching PSTHs from HDF5...\n"
     ]
    },
    {
     "name": "stderr",
     "output_type": "stream",
     "text": [
      "/opt/anaconda3/lib/python3.12/site-packages/tables/attributeset.py:290: DataTypeWarning: Unsupported type for attribute 'scenefile_by_stim_mat' in node '/'. Offending HDF5 class: 8\n",
      "  value = self._g_getattr(self._v_node, name)\n"
     ]
    },
    {
     "name": "stdout",
     "output_type": "stream",
     "text": [
      "... done.\n",
      "Duration=0.014338382085164388 minutes\n",
      "Fancy slicing numpy array...\n",
      "... done.\n",
      "Duration=0.0014680027961730957 minutes\n"
     ]
    }
   ],
   "source": [
    "# Select stimulus presentations associated with requested scenefiles:\n",
    "filter = trial_params.scenefile.isin(scenefiles)\n",
    "rust_trials = trial_params[filter]\n",
    "array_filter = np.array(rust_trials[['trial_num', 'rsvp_num']])\n",
    "\n",
    "# Read spike count data from HDF5 for requested trials:\n",
    "time_window = [start_bin, end_bin] # Beginning and end of peristimulus time window for each stim, relative to trigger in seconds\n",
    "rust_data = h5_2_df(pathname, trials=array_filter, time_window=time_window)\n",
    "\n",
    "# Sort rust_data to match trial_params, rust_trials\n",
    "rust_data.sort_index(inplace=True)"
   ]
  },
  {
   "cell_type": "code",
   "execution_count": 8,
   "id": "2518320c-65f7-42d5-aeb0-806f7105ced5",
   "metadata": {},
   "outputs": [
    {
     "data": {
      "text/plain": [
       "(731, 12)"
      ]
     },
     "execution_count": 8,
     "metadata": {},
     "output_type": "execute_result"
    }
   ],
   "source": [
    "# Create + apply mask to remove nans\n",
    "mask = rust_data.apply(lambda x : np.all(np.isnan(x.psth)), axis=1)\n",
    "final_df = rust_data[-mask]\n",
    "final_df.shape"
   ]
  },
  {
   "cell_type": "code",
   "execution_count": 9,
   "id": "d05f1df5-7a44-4e9a-9087-6ca53ca0e426",
   "metadata": {},
   "outputs": [
    {
     "name": "stdout",
     "output_type": "stream",
     "text": [
      "(731, 384, 40)\n",
      "Nans remaining after removal: 0\n"
     ]
    }
   ],
   "source": [
    "# Convert psth to spike matrix\n",
    "final_spike_arr = np.array(list(final_df.psth))\n",
    "print(final_spike_arr.shape)\n",
    "\n",
    "# Check for remaining nan\n",
    "print(f'Nans remaining after removal: {np.isnan(final_spike_arr).sum()}')"
   ]
  },
  {
   "cell_type": "code",
   "execution_count": 10,
   "id": "1ef4ea59-3cb6-40f8-b7a7-65ebe8f71f19",
   "metadata": {},
   "outputs": [
    {
     "data": {
      "text/plain": [
       "(731, 384)"
      ]
     },
     "execution_count": 10,
     "metadata": {},
     "output_type": "execute_result"
    }
   ],
   "source": [
    "# Create avg_spikes\n",
    "avg_spikes = np.mean(final_spike_arr, axis=2)\n",
    "avg_spikes.shape"
   ]
  },
  {
   "cell_type": "code",
   "execution_count": 43,
   "id": "ef7c165d-997b-4860-8476-cf62cb7edfa3",
   "metadata": {},
   "outputs": [
    {
     "data": {
      "text/plain": [
       "731"
      ]
     },
     "execution_count": 43,
     "metadata": {},
     "output_type": "execute_result"
    }
   ],
   "source": [
    "# Objaverse pathlist\n",
    "locker_prefix = '/Volumes/'\n",
    "path_series = final_df['img_full_path'].str[16:].apply(lambda x : locker_prefix + x)\n",
    "natimg_path_list = path_series.tolist()\n",
    "len(natimg_path_list)"
   ]
  },
  {
   "cell_type": "code",
   "execution_count": 142,
   "id": "ff435887-b53a-4b3b-a52d-5571b03b98e8",
   "metadata": {
    "jupyter": {
     "source_hidden": true
    }
   },
   "outputs": [
    {
     "data": {
      "text/plain": [
       "3364"
      ]
     },
     "execution_count": 142,
     "metadata": {},
     "output_type": "execute_result"
    }
   ],
   "source": [
    "# Rust pathlist\n",
    "path_series = final_df['stim_idx'].apply(lambda x : \n",
    "                                           f'/Users/parsatalaie/Downloads/rust_natimgs/Nat300_{x+1}.png')\n",
    "natimg_path_list = path_series.tolist()\n",
    "len(natimg_path_list)"
   ]
  },
  {
   "cell_type": "code",
   "execution_count": null,
   "id": "3228ffe4-a981-4a5d-a40b-e65af06513e6",
   "metadata": {
    "jupyter": {
     "source_hidden": true
    }
   },
   "outputs": [],
   "source": [
    "# HvM pathlist without img_full_path column\n",
    "\n",
    "# get spliced scenefile (for local pathing) (Check out warning if things go wrong...)\n",
    "start_idx = 28\n",
    "final_df['spliced_scenefile'] = final_df['scenefile'].str.removesuffix('.json').str[start_idx:]\n",
    "\n",
    "# Generate img_full_path\n",
    "hvm_prefix = '/Users/parsatalaie/Desktop/Marmoset Datasets/hvm10/'\n",
    "\n",
    "def png_path_end_int(path):\n",
    "    match = re.search(r'(\\d+)\\.png$', path)\n",
    "    if match:\n",
    "        return int(match.group(1))  # Returns \"123\" as string\n",
    "    else:\n",
    "        return None\n",
    "\n",
    "for scenefile in final_df['spliced_scenefile'].unique():\n",
    "    sfile_path = hvm_prefix + scenefile\n",
    "    img_list = os.listdir(sfile_path)\n",
    "    # Note: there is one .json in each scenefile, which is mapped to None in dict\n",
    "    idx_to_path = {png_path_end_int(img):'/'.join([sfile_path, img]) for img in img_list}\n",
    "    scene_mask = final_df['spliced_scenefile'] == scenefile\n",
    "    final_df.loc[scene_mask, 'img_full_path'] = final_df.loc[scene_mask, 'stim_idx'].map(idx_to_path) \n",
    "\n",
    "natimg_path_list = final_df['img_full_path'].tolist()\n",
    "len(natimg_path_list)"
   ]
  },
  {
   "cell_type": "code",
   "execution_count": null,
   "id": "83d0916f-cbf3-4e1b-a3af-bc82e6fd8301",
   "metadata": {},
   "outputs": [],
   "source": [
    "# NOTE: Can use 57: + strip .png to double check that indices are aligned"
   ]
  },
  {
   "cell_type": "code",
   "execution_count": 12,
   "id": "ea9c0aa2-db97-4d2f-a790-9c37a5c34472",
   "metadata": {
    "collapsed": true,
    "jupyter": {
     "outputs_hidden": true,
     "source_hidden": true
    },
    "scrolled": true
   },
   "outputs": [
    {
     "ename": "TypeError",
     "evalue": "'NoneType' object is not subscriptable",
     "output_type": "error",
     "traceback": [
      "\u001b[0;31m---------------------------------------------------------------------------\u001b[0m",
      "\u001b[0;31mTypeError\u001b[0m                                 Traceback (most recent call last)",
      "Cell \u001b[0;32mIn[12], line 4\u001b[0m\n\u001b[1;32m      2\u001b[0m start_idx \u001b[38;5;241m=\u001b[39m \u001b[38;5;241m51\u001b[39m\n\u001b[1;32m      3\u001b[0m alter_hvm_path \u001b[38;5;241m=\u001b[39m \u001b[38;5;28;01mlambda\u001b[39;00m hvm_path : \u001b[38;5;124m'\u001b[39m\u001b[38;5;124m/Users/parsatalaie/Desktop/Marmoset Datasets/\u001b[39m\u001b[38;5;124m'\u001b[39m \u001b[38;5;241m+\u001b[39m hvm_path[start_idx:]\n\u001b[0;32m----> 4\u001b[0m natimg_paths \u001b[38;5;241m=\u001b[39m final_df[\u001b[38;5;124m'\u001b[39m\u001b[38;5;124mimg_full_path\u001b[39m\u001b[38;5;124m'\u001b[39m]\u001b[38;5;241m.\u001b[39mapply(alter_hvm_path)\n\u001b[1;32m      5\u001b[0m natimg_path_list \u001b[38;5;241m=\u001b[39m natimg_paths\u001b[38;5;241m.\u001b[39mtolist()\n\u001b[1;32m      6\u001b[0m \u001b[38;5;28mlen\u001b[39m(natimg_path_list)\n",
      "File \u001b[0;32m/opt/anaconda3/lib/python3.12/site-packages/pandas/core/series.py:4924\u001b[0m, in \u001b[0;36mSeries.apply\u001b[0;34m(self, func, convert_dtype, args, by_row, **kwargs)\u001b[0m\n\u001b[1;32m   4789\u001b[0m \u001b[38;5;28;01mdef\u001b[39;00m \u001b[38;5;21mapply\u001b[39m(\n\u001b[1;32m   4790\u001b[0m     \u001b[38;5;28mself\u001b[39m,\n\u001b[1;32m   4791\u001b[0m     func: AggFuncType,\n\u001b[0;32m   (...)\u001b[0m\n\u001b[1;32m   4796\u001b[0m     \u001b[38;5;241m*\u001b[39m\u001b[38;5;241m*\u001b[39mkwargs,\n\u001b[1;32m   4797\u001b[0m ) \u001b[38;5;241m-\u001b[39m\u001b[38;5;241m>\u001b[39m DataFrame \u001b[38;5;241m|\u001b[39m Series:\n\u001b[1;32m   4798\u001b[0m \u001b[38;5;250m    \u001b[39m\u001b[38;5;124;03m\"\"\"\u001b[39;00m\n\u001b[1;32m   4799\u001b[0m \u001b[38;5;124;03m    Invoke function on values of Series.\u001b[39;00m\n\u001b[1;32m   4800\u001b[0m \n\u001b[0;32m   (...)\u001b[0m\n\u001b[1;32m   4915\u001b[0m \u001b[38;5;124;03m    dtype: float64\u001b[39;00m\n\u001b[1;32m   4916\u001b[0m \u001b[38;5;124;03m    \"\"\"\u001b[39;00m\n\u001b[1;32m   4917\u001b[0m     \u001b[38;5;28;01mreturn\u001b[39;00m SeriesApply(\n\u001b[1;32m   4918\u001b[0m         \u001b[38;5;28mself\u001b[39m,\n\u001b[1;32m   4919\u001b[0m         func,\n\u001b[1;32m   4920\u001b[0m         convert_dtype\u001b[38;5;241m=\u001b[39mconvert_dtype,\n\u001b[1;32m   4921\u001b[0m         by_row\u001b[38;5;241m=\u001b[39mby_row,\n\u001b[1;32m   4922\u001b[0m         args\u001b[38;5;241m=\u001b[39margs,\n\u001b[1;32m   4923\u001b[0m         kwargs\u001b[38;5;241m=\u001b[39mkwargs,\n\u001b[0;32m-> 4924\u001b[0m     )\u001b[38;5;241m.\u001b[39mapply()\n",
      "File \u001b[0;32m/opt/anaconda3/lib/python3.12/site-packages/pandas/core/apply.py:1427\u001b[0m, in \u001b[0;36mSeriesApply.apply\u001b[0;34m(self)\u001b[0m\n\u001b[1;32m   1424\u001b[0m     \u001b[38;5;28;01mreturn\u001b[39;00m \u001b[38;5;28mself\u001b[39m\u001b[38;5;241m.\u001b[39mapply_compat()\n\u001b[1;32m   1426\u001b[0m \u001b[38;5;66;03m# self.func is Callable\u001b[39;00m\n\u001b[0;32m-> 1427\u001b[0m \u001b[38;5;28;01mreturn\u001b[39;00m \u001b[38;5;28mself\u001b[39m\u001b[38;5;241m.\u001b[39mapply_standard()\n",
      "File \u001b[0;32m/opt/anaconda3/lib/python3.12/site-packages/pandas/core/apply.py:1507\u001b[0m, in \u001b[0;36mSeriesApply.apply_standard\u001b[0;34m(self)\u001b[0m\n\u001b[1;32m   1501\u001b[0m \u001b[38;5;66;03m# row-wise access\u001b[39;00m\n\u001b[1;32m   1502\u001b[0m \u001b[38;5;66;03m# apply doesn't have a `na_action` keyword and for backward compat reasons\u001b[39;00m\n\u001b[1;32m   1503\u001b[0m \u001b[38;5;66;03m# we need to give `na_action=\"ignore\"` for categorical data.\u001b[39;00m\n\u001b[1;32m   1504\u001b[0m \u001b[38;5;66;03m# TODO: remove the `na_action=\"ignore\"` when that default has been changed in\u001b[39;00m\n\u001b[1;32m   1505\u001b[0m \u001b[38;5;66;03m#  Categorical (GH51645).\u001b[39;00m\n\u001b[1;32m   1506\u001b[0m action \u001b[38;5;241m=\u001b[39m \u001b[38;5;124m\"\u001b[39m\u001b[38;5;124mignore\u001b[39m\u001b[38;5;124m\"\u001b[39m \u001b[38;5;28;01mif\u001b[39;00m \u001b[38;5;28misinstance\u001b[39m(obj\u001b[38;5;241m.\u001b[39mdtype, CategoricalDtype) \u001b[38;5;28;01melse\u001b[39;00m \u001b[38;5;28;01mNone\u001b[39;00m\n\u001b[0;32m-> 1507\u001b[0m mapped \u001b[38;5;241m=\u001b[39m obj\u001b[38;5;241m.\u001b[39m_map_values(\n\u001b[1;32m   1508\u001b[0m     mapper\u001b[38;5;241m=\u001b[39mcurried, na_action\u001b[38;5;241m=\u001b[39maction, convert\u001b[38;5;241m=\u001b[39m\u001b[38;5;28mself\u001b[39m\u001b[38;5;241m.\u001b[39mconvert_dtype\n\u001b[1;32m   1509\u001b[0m )\n\u001b[1;32m   1511\u001b[0m \u001b[38;5;28;01mif\u001b[39;00m \u001b[38;5;28mlen\u001b[39m(mapped) \u001b[38;5;129;01mand\u001b[39;00m \u001b[38;5;28misinstance\u001b[39m(mapped[\u001b[38;5;241m0\u001b[39m], ABCSeries):\n\u001b[1;32m   1512\u001b[0m     \u001b[38;5;66;03m# GH#43986 Need to do list(mapped) in order to get treated as nested\u001b[39;00m\n\u001b[1;32m   1513\u001b[0m     \u001b[38;5;66;03m#  See also GH#25959 regarding EA support\u001b[39;00m\n\u001b[1;32m   1514\u001b[0m     \u001b[38;5;28;01mreturn\u001b[39;00m obj\u001b[38;5;241m.\u001b[39m_constructor_expanddim(\u001b[38;5;28mlist\u001b[39m(mapped), index\u001b[38;5;241m=\u001b[39mobj\u001b[38;5;241m.\u001b[39mindex)\n",
      "File \u001b[0;32m/opt/anaconda3/lib/python3.12/site-packages/pandas/core/base.py:921\u001b[0m, in \u001b[0;36mIndexOpsMixin._map_values\u001b[0;34m(self, mapper, na_action, convert)\u001b[0m\n\u001b[1;32m    918\u001b[0m \u001b[38;5;28;01mif\u001b[39;00m \u001b[38;5;28misinstance\u001b[39m(arr, ExtensionArray):\n\u001b[1;32m    919\u001b[0m     \u001b[38;5;28;01mreturn\u001b[39;00m arr\u001b[38;5;241m.\u001b[39mmap(mapper, na_action\u001b[38;5;241m=\u001b[39mna_action)\n\u001b[0;32m--> 921\u001b[0m \u001b[38;5;28;01mreturn\u001b[39;00m algorithms\u001b[38;5;241m.\u001b[39mmap_array(arr, mapper, na_action\u001b[38;5;241m=\u001b[39mna_action, convert\u001b[38;5;241m=\u001b[39mconvert)\n",
      "File \u001b[0;32m/opt/anaconda3/lib/python3.12/site-packages/pandas/core/algorithms.py:1743\u001b[0m, in \u001b[0;36mmap_array\u001b[0;34m(arr, mapper, na_action, convert)\u001b[0m\n\u001b[1;32m   1741\u001b[0m values \u001b[38;5;241m=\u001b[39m arr\u001b[38;5;241m.\u001b[39mastype(\u001b[38;5;28mobject\u001b[39m, copy\u001b[38;5;241m=\u001b[39m\u001b[38;5;28;01mFalse\u001b[39;00m)\n\u001b[1;32m   1742\u001b[0m \u001b[38;5;28;01mif\u001b[39;00m na_action \u001b[38;5;129;01mis\u001b[39;00m \u001b[38;5;28;01mNone\u001b[39;00m:\n\u001b[0;32m-> 1743\u001b[0m     \u001b[38;5;28;01mreturn\u001b[39;00m lib\u001b[38;5;241m.\u001b[39mmap_infer(values, mapper, convert\u001b[38;5;241m=\u001b[39mconvert)\n\u001b[1;32m   1744\u001b[0m \u001b[38;5;28;01melse\u001b[39;00m:\n\u001b[1;32m   1745\u001b[0m     \u001b[38;5;28;01mreturn\u001b[39;00m lib\u001b[38;5;241m.\u001b[39mmap_infer_mask(\n\u001b[1;32m   1746\u001b[0m         values, mapper, mask\u001b[38;5;241m=\u001b[39misna(values)\u001b[38;5;241m.\u001b[39mview(np\u001b[38;5;241m.\u001b[39muint8), convert\u001b[38;5;241m=\u001b[39mconvert\n\u001b[1;32m   1747\u001b[0m     )\n",
      "File \u001b[0;32mlib.pyx:2972\u001b[0m, in \u001b[0;36mpandas._libs.lib.map_infer\u001b[0;34m()\u001b[0m\n",
      "Cell \u001b[0;32mIn[12], line 3\u001b[0m, in \u001b[0;36m<lambda>\u001b[0;34m(hvm_path)\u001b[0m\n\u001b[1;32m      1\u001b[0m \u001b[38;5;66;03m# HVM NATIMG_PATH_LIST\u001b[39;00m\n\u001b[1;32m      2\u001b[0m start_idx \u001b[38;5;241m=\u001b[39m \u001b[38;5;241m51\u001b[39m\n\u001b[0;32m----> 3\u001b[0m alter_hvm_path \u001b[38;5;241m=\u001b[39m \u001b[38;5;28;01mlambda\u001b[39;00m hvm_path : \u001b[38;5;124m'\u001b[39m\u001b[38;5;124m/Users/parsatalaie/Desktop/Marmoset Datasets/\u001b[39m\u001b[38;5;124m'\u001b[39m \u001b[38;5;241m+\u001b[39m hvm_path[start_idx:]\n\u001b[1;32m      4\u001b[0m natimg_paths \u001b[38;5;241m=\u001b[39m final_df[\u001b[38;5;124m'\u001b[39m\u001b[38;5;124mimg_full_path\u001b[39m\u001b[38;5;124m'\u001b[39m]\u001b[38;5;241m.\u001b[39mapply(alter_hvm_path)\n\u001b[1;32m      5\u001b[0m natimg_path_list \u001b[38;5;241m=\u001b[39m natimg_paths\u001b[38;5;241m.\u001b[39mtolist()\n",
      "\u001b[0;31mTypeError\u001b[0m: 'NoneType' object is not subscriptable"
     ]
    }
   ],
   "source": [
    "# HvM pathlist using img_full_path\n",
    "start_idx = 51\n",
    "alter_hvm_path = lambda hvm_path : '/Users/parsatalaie/Desktop/Marmoset Datasets/' + hvm_path[start_idx:]\n",
    "natimg_paths = final_df['img_full_path'].apply(alter_hvm_path)\n",
    "natimg_path_list = natimg_paths.tolist()\n",
    "len(natimg_path_list)"
   ]
  },
  {
   "cell_type": "code",
   "execution_count": 44,
   "id": "4d954d43-b123-4fba-9e7c-4a031239002b",
   "metadata": {},
   "outputs": [
    {
     "data": {
      "text/plain": [
       "(384, 731)"
      ]
     },
     "execution_count": 44,
     "metadata": {},
     "output_type": "execute_result"
    }
   ],
   "source": [
    "# Transpose spikes to match formatting of old data\n",
    "avg_spikes = avg_spikes.transpose()\n",
    "avg_spikes.shape"
   ]
  },
  {
   "cell_type": "code",
   "execution_count": 104,
   "id": "fd0f05ca-7e66-45e9-a794-efec8e00d8f4",
   "metadata": {},
   "outputs": [],
   "source": [
    "# Save avg_spikes\n",
    "np.save(f'./{year}_{month}_{day}/marm_avg_spikes_{year}{month}{day}', avg_spikes)"
   ]
  },
  {
   "cell_type": "code",
   "execution_count": 105,
   "id": "3cdfd1dc-2a08-42a7-be90-97f925c0d294",
   "metadata": {},
   "outputs": [],
   "source": [
    "# pickle it\n",
    "\n",
    "import pickle\n",
    "\n",
    "with open(f'./{year}_{month}_{day}/natimg_path_list_{year}{month}{day}', 'wb') as fp:   #Pickling\n",
    "    pickle.dump(natimg_path_list, fp)"
   ]
  },
  {
   "cell_type": "code",
   "execution_count": null,
   "id": "289ee91e-359f-4311-9ad6-95fae826dafe",
   "metadata": {},
   "outputs": [],
   "source": []
  },
  {
   "cell_type": "code",
   "execution_count": null,
   "id": "57f9a9b1-bfec-4f4a-aebc-e735c1031db7",
   "metadata": {},
   "outputs": [],
   "source": [
    "'''\n",
    "SHR\n",
    "'''"
   ]
  },
  {
   "cell_type": "code",
   "execution_count": 47,
   "id": "550fe2eb-0186-41ca-99ba-26c1138192f2",
   "metadata": {},
   "outputs": [],
   "source": [
    "from scipy.stats import zscore\n",
    "\n",
    "marm_avg_spikes_t = avg_spikes\n",
    "marm_avg_spikes = zscore(np.transpose(marm_avg_spikes_t.astype('float32')), axis=1)"
   ]
  },
  {
   "cell_type": "code",
   "execution_count": 48,
   "id": "50bf4fd7-be44-444c-bd57-1c1e44dffc38",
   "metadata": {},
   "outputs": [],
   "source": [
    "# make new indices for SHR\n",
    "ch_tot = marm_avg_spikes.shape[1]\n",
    "stim_tot = marm_avg_spikes.shape[0]\n",
    "indices = np.arange(stim_tot)"
   ]
  },
  {
   "cell_type": "code",
   "execution_count": 49,
   "id": "94212aeb-d84a-428c-a139-982e647a8c98",
   "metadata": {},
   "outputs": [],
   "source": [
    "# get max_reps\n",
    "\n",
    "trial_counts = []\n",
    "\n",
    "for path in set(natimg_path_list):\n",
    "    trial_counts.append(natimg_path_list.count(path))\n",
    "\n",
    "max_reps = max(trial_counts)\n",
    "\n",
    "min_repeat = 2"
   ]
  },
  {
   "cell_type": "code",
   "execution_count": 50,
   "id": "db5ad5e5-df15-47eb-8865-848c7a34289a",
   "metadata": {},
   "outputs": [],
   "source": [
    "# HVM: Get demon matrix for each neuron\n",
    "\n",
    "many_path_list = [path for path in natimg_path_list \n",
    "                      if natimg_path_list.count(path) >= min_repeat]\n",
    "img_count = len(set(many_path_list))\n",
    "sh_data = np.zeros(ch_tot)\n",
    "img_spikes_tot = np.zeros((ch_tot, max_reps, img_count))\n",
    "\n",
    "for ch in range(ch_tot):\n",
    "    neuron = marm_avg_spikes[:, ch]\n",
    "    count_arr = np.zeros((max_reps, img_count))\n",
    "    count_arr[:] = np.nan\n",
    "    for i, path in enumerate(set(many_path_list)):\n",
    "        idx_list = [i for i, j in enumerate(natimg_path_list) if j == path]\n",
    "        # note: original mistake, ^ should take natimg_path_list as arg\n",
    "        for rep, idx in enumerate(idx_list):\n",
    "            count_arr[rep, i] = neuron[idx]\n",
    "    img_spikes_tot[ch] = count_arr\n",
    "    neuron_1, neuron_2 = count_arr[::2], count_arr[1::2]\n",
    "    neuron_1_avg = np.nanmean(neuron_1, axis=0)\n",
    "    neuron_2_avg = np.nanmean(neuron_2, axis=0)\n",
    "    sh, _ = stats.pearsonr(neuron_1_avg, neuron_2_avg)\n",
    "    sh_data[ch] = sh"
   ]
  },
  {
   "cell_type": "code",
   "execution_count": 52,
   "id": "579ad9d3-f1c4-4899-a180-dbb4c7491580",
   "metadata": {},
   "outputs": [
    {
     "name": "stdout",
     "output_type": "stream",
     "text": [
      "Number of good neurons: 297\n"
     ]
    }
   ],
   "source": [
    "sh_limit = .3\n",
    "\n",
    "# Get good idx\n",
    "good_idx = np.where(sh_data >= sh_limit)[0]\n",
    "\n",
    "# get good sh, exp\n",
    "good_sh = sh_data[good_idx]\n",
    "\n",
    "good_ch_tot = good_idx.shape[0]\n",
    "\n",
    "print(f'Number of good neurons: {good_ch_tot}')"
   ]
  },
  {
   "cell_type": "code",
   "execution_count": null,
   "id": "d34a6325-60d1-436f-9aa6-ee2dd6298450",
   "metadata": {},
   "outputs": [],
   "source": []
  },
  {
   "cell_type": "code",
   "execution_count": null,
   "id": "901e7ff0-e5dc-4886-aee8-591d6bf5b328",
   "metadata": {},
   "outputs": [],
   "source": [
    "'''\n",
    "Check if issue is filtering of df: start with all trials\n",
    "'''"
   ]
  },
  {
   "cell_type": "code",
   "execution_count": 41,
   "id": "6c51b498-46d2-4227-8a63-e60a7c975d0b",
   "metadata": {
    "jupyter": {
     "source_hidden": true
    }
   },
   "outputs": [
    {
     "name": "stdout",
     "output_type": "stream",
     "text": [
      "Fetching trial parameters...\n",
      "... done (0.02410578727722168 sec).\n",
      "Pre-fetching PSTHs from HDF5...\n"
     ]
    },
    {
     "name": "stderr",
     "output_type": "stream",
     "text": [
      "/opt/anaconda3/lib/python3.12/site-packages/tables/attributeset.py:290: DataTypeWarning: Unsupported type for attribute 'scenefile_by_stim_mat' in node '/'. Offending HDF5 class: 8\n",
      "  value = self._g_getattr(self._v_node, name)\n"
     ]
    },
    {
     "name": "stdout",
     "output_type": "stream",
     "text": [
      "... done.\n",
      "Duration=0.01466134786605835 minutes\n",
      "Fancy slicing numpy array...\n",
      "... done.\n",
      "Duration=0.01987988551457723 minutes\n"
     ]
    }
   ],
   "source": [
    "# h5_2_df the whole file (same time_window)\n",
    "\n",
    "time_window = [start_bin, end_bin]\n",
    "all_data = h5_2_df(pathname, time_window=time_window)"
   ]
  },
  {
   "cell_type": "code",
   "execution_count": 42,
   "id": "d392b131-d5b5-414c-b34a-5fd69f7e76e6",
   "metadata": {
    "jupyter": {
     "source_hidden": true
    }
   },
   "outputs": [
    {
     "data": {
      "text/plain": [
       "(3364, 11)"
      ]
     },
     "execution_count": 42,
     "metadata": {},
     "output_type": "execute_result"
    }
   ],
   "source": [
    "# Apply masks\n",
    "\n",
    "nan_mask = all_data.apply(lambda x : np.all(np.isnan(x.psth)), axis=1)\n",
    "fix_all_data = all_data[-nan_mask]\n",
    "scenefile_mask = fix_all_data['scenefile'] == '/mkturkfiles/scenebags/West/20231025_Rust_NaturalImages300_300ms.json'\n",
    "final_all_data = fix_all_data[scenefile_mask]\n",
    "final_all_data.shape"
   ]
  },
  {
   "cell_type": "code",
   "execution_count": 43,
   "id": "b1244092-bcde-4b9f-a70f-57d9d7452fe3",
   "metadata": {
    "jupyter": {
     "source_hidden": true
    }
   },
   "outputs": [
    {
     "name": "stdout",
     "output_type": "stream",
     "text": [
      "(3364, 384)\n"
     ]
    },
    {
     "data": {
      "text/plain": [
       "3364"
      ]
     },
     "execution_count": 43,
     "metadata": {},
     "output_type": "execute_result"
    }
   ],
   "source": [
    "# Convert psth to spike matrix\n",
    "final_spike_arr = np.array(list(final_all_data.psth))\n",
    "final_spike_arr.shape\n",
    "\n",
    "# Check for remaining nan\n",
    "np.isnan(final_spike_arr).sum()\n",
    "\n",
    "# Create avg_spikes\n",
    "avg_spikes = np.mean(final_spike_arr, axis=2)\n",
    "print(avg_spikes.shape)\n",
    "\n",
    "# Create natimg_path_list\n",
    "path_series = final_all_data['stim_idx'].apply(lambda x : \n",
    "                                           f'/Users/parsatalaie/Downloads/rust_natimgs/Nat300_{x+1}.png')\n",
    "natimg_path_list = path_series.tolist()\n",
    "len(natimg_path_list)"
   ]
  },
  {
   "cell_type": "code",
   "execution_count": 44,
   "id": "241be953-397a-4c6b-b407-e5fe44ce96b3",
   "metadata": {
    "collapsed": true,
    "jupyter": {
     "outputs_hidden": true,
     "source_hidden": true
    },
    "scrolled": true
   },
   "outputs": [
    {
     "ename": "NameError",
     "evalue": "name 'final_df' is not defined",
     "output_type": "error",
     "traceback": [
      "\u001b[0;31m---------------------------------------------------------------------------\u001b[0m",
      "\u001b[0;31mNameError\u001b[0m                                 Traceback (most recent call last)",
      "Cell \u001b[0;32mIn[44], line 4\u001b[0m\n\u001b[1;32m      1\u001b[0m \u001b[38;5;66;03m# Check if equivalent\u001b[39;00m\n\u001b[1;32m      3\u001b[0m \u001b[38;5;28;01mtry\u001b[39;00m:\n\u001b[0;32m----> 4\u001b[0m     pd\u001b[38;5;241m.\u001b[39mtesting\u001b[38;5;241m.\u001b[39massert_frame_equal(final_all_data\u001b[38;5;241m.\u001b[39msort_index(), final_df)\n\u001b[1;32m      5\u001b[0m     \u001b[38;5;28mprint\u001b[39m(\u001b[38;5;124m\"\u001b[39m\u001b[38;5;124mDataFrames are identical\u001b[39m\u001b[38;5;124m\"\u001b[39m)\n\u001b[1;32m      6\u001b[0m \u001b[38;5;28;01mexcept\u001b[39;00m \u001b[38;5;167;01mAssertionError\u001b[39;00m:\n",
      "\u001b[0;31mNameError\u001b[0m: name 'final_df' is not defined"
     ]
    }
   ],
   "source": [
    "# Check if equivalent\n",
    "\n",
    "try:\n",
    "    pd.testing.assert_frame_equal(final_all_data.sort_index(), final_df)\n",
    "    print(\"DataFrames are identical\")\n",
    "except AssertionError:\n",
    "    print(\"DataFrames are different\")"
   ]
  },
  {
   "cell_type": "code",
   "execution_count": null,
   "id": "57e6a786-01f2-4b91-845b-3e1f34452ae2",
   "metadata": {},
   "outputs": [],
   "source": []
  },
  {
   "cell_type": "code",
   "execution_count": null,
   "id": "aeaa6c39-4fe1-480f-87ec-2cd875ba218a",
   "metadata": {},
   "outputs": [],
   "source": []
  },
  {
   "cell_type": "code",
   "execution_count": 30,
   "id": "68713acd-63a4-477e-822e-0db5ef5edcd2",
   "metadata": {
    "jupyter": {
     "source_hidden": true
    },
    "scrolled": true
   },
   "outputs": [
    {
     "name": "stderr",
     "output_type": "stream",
     "text": [
      "/opt/anaconda3/lib/python3.12/site-packages/tables/attributeset.py:290: DataTypeWarning: Unsupported type for attribute 'scenefile_by_stim_mat' in node '/'. Offending HDF5 class: 8\n",
      "  value = self._g_getattr(self._v_node, name)\n",
      "/opt/anaconda3/lib/python3.12/site-packages/tables/attributeset.py:290: DataTypeWarning: Unsupported type for attribute 'scenefile_by_stim_mat' in node '/'. Offending HDF5 class: 8\n",
      "  value = self._g_getattr(self._v_node, name)\n"
     ]
    }
   ],
   "source": [
    "# Dan new ch_depth\n",
    "zero_coords = pd.read_hdf(pathname, 'zero_coordinates')\n",
    "imro_tbl = pd.read_hdf(pathname, 'imro_table')\n",
    "\n",
    "zero_coords['monkey'] = monkey\n",
    "zero_coords['date'] = f'{year}{month}{day}'\n",
    "imro_tbl['monkey'] = monkey\n",
    "imro_tbl['date'] = f'{year}{month}{day}'\n",
    "\n",
    "imro_tbl['ch_idx_glx'] = imro_tbl.index\n",
    "\n",
    "chs_meta_df = chs_meta_2_site_coords(zero_coords, imro_tbl)\n",
    "\n",
    "ch_depths = np.array(chs_meta_df['depth'])"
   ]
  },
  {
   "cell_type": "code",
   "execution_count": 29,
   "id": "0120182d-fc6b-486e-beae-e3f46e1fbb1c",
   "metadata": {},
   "outputs": [],
   "source": [
    "# Save ch_depths\n",
    "\n",
    "np.save(f'./{year}_{month}_{day}/ch_depth_{year}{month}{day}', ch_depths)"
   ]
  },
  {
   "cell_type": "code",
   "execution_count": null,
   "id": "13b305ca-efbe-4d41-aeab-d0364e8cbd2a",
   "metadata": {},
   "outputs": [],
   "source": []
  },
  {
   "cell_type": "code",
   "execution_count": 106,
   "id": "d57ea05b-a5bd-49a1-9b98-3c73a5870532",
   "metadata": {
    "collapsed": true,
    "jupyter": {
     "outputs_hidden": true
    }
   },
   "outputs": [
    {
     "ename": "KeyError",
     "evalue": "\"Unable to open object (object 'site_coordinates' doesn't exist)\"",
     "output_type": "error",
     "traceback": [
      "\u001b[0;31m---------------------------------------------------------------------------\u001b[0m",
      "\u001b[0;31mKeyError\u001b[0m                                  Traceback (most recent call last)",
      "Cell \u001b[0;32mIn[106], line 3\u001b[0m\n\u001b[1;32m      1\u001b[0m \u001b[38;5;66;03m# Create new_ch_depth\u001b[39;00m\n\u001b[0;32m----> 3\u001b[0m coords \u001b[38;5;241m=\u001b[39m f[\u001b[38;5;124m'\u001b[39m\u001b[38;5;124msite_coordinates\u001b[39m\u001b[38;5;124m'\u001b[39m]\n\u001b[1;32m      4\u001b[0m depth_ch_idx \u001b[38;5;241m=\u001b[39m coords[\u001b[38;5;124m'\u001b[39m\u001b[38;5;124maxis1\u001b[39m\u001b[38;5;124m'\u001b[39m][:]\n\u001b[1;32m      6\u001b[0m new_ch_depth \u001b[38;5;241m=\u001b[39m np\u001b[38;5;241m.\u001b[39mzeros((\u001b[38;5;241m384\u001b[39m))\n",
      "File \u001b[0;32mh5py/_objects.pyx:54\u001b[0m, in \u001b[0;36mh5py._objects.with_phil.wrapper\u001b[0;34m()\u001b[0m\n",
      "File \u001b[0;32mh5py/_objects.pyx:55\u001b[0m, in \u001b[0;36mh5py._objects.with_phil.wrapper\u001b[0;34m()\u001b[0m\n",
      "File \u001b[0;32m/opt/anaconda3/lib/python3.12/site-packages/h5py/_hl/group.py:357\u001b[0m, in \u001b[0;36mGroup.__getitem__\u001b[0;34m(self, name)\u001b[0m\n\u001b[1;32m    355\u001b[0m         \u001b[38;5;28;01mraise\u001b[39;00m \u001b[38;5;167;01mValueError\u001b[39;00m(\u001b[38;5;124m\"\u001b[39m\u001b[38;5;124mInvalid HDF5 object reference\u001b[39m\u001b[38;5;124m\"\u001b[39m)\n\u001b[1;32m    356\u001b[0m \u001b[38;5;28;01melif\u001b[39;00m \u001b[38;5;28misinstance\u001b[39m(name, (\u001b[38;5;28mbytes\u001b[39m, \u001b[38;5;28mstr\u001b[39m)):\n\u001b[0;32m--> 357\u001b[0m     oid \u001b[38;5;241m=\u001b[39m h5o\u001b[38;5;241m.\u001b[39mopen(\u001b[38;5;28mself\u001b[39m\u001b[38;5;241m.\u001b[39mid, \u001b[38;5;28mself\u001b[39m\u001b[38;5;241m.\u001b[39m_e(name), lapl\u001b[38;5;241m=\u001b[39m\u001b[38;5;28mself\u001b[39m\u001b[38;5;241m.\u001b[39m_lapl)\n\u001b[1;32m    358\u001b[0m \u001b[38;5;28;01melse\u001b[39;00m:\n\u001b[1;32m    359\u001b[0m     \u001b[38;5;28;01mraise\u001b[39;00m \u001b[38;5;167;01mTypeError\u001b[39;00m(\u001b[38;5;124m\"\u001b[39m\u001b[38;5;124mAccessing a group is done with bytes or str, \u001b[39m\u001b[38;5;124m\"\u001b[39m\n\u001b[1;32m    360\u001b[0m                     \u001b[38;5;124m\"\u001b[39m\u001b[38;5;124mnot \u001b[39m\u001b[38;5;132;01m{}\u001b[39;00m\u001b[38;5;124m\"\u001b[39m\u001b[38;5;241m.\u001b[39mformat(\u001b[38;5;28mtype\u001b[39m(name)))\n",
      "File \u001b[0;32mh5py/_objects.pyx:54\u001b[0m, in \u001b[0;36mh5py._objects.with_phil.wrapper\u001b[0;34m()\u001b[0m\n",
      "File \u001b[0;32mh5py/_objects.pyx:55\u001b[0m, in \u001b[0;36mh5py._objects.with_phil.wrapper\u001b[0;34m()\u001b[0m\n",
      "File \u001b[0;32mh5py/h5o.pyx:257\u001b[0m, in \u001b[0;36mh5py.h5o.open\u001b[0;34m()\u001b[0m\n",
      "\u001b[0;31mKeyError\u001b[0m: \"Unable to open object (object 'site_coordinates' doesn't exist)\""
     ]
    }
   ],
   "source": [
    "# Create new_ch_depth\n",
    "\n",
    "coords = f['site_coordinates']\n",
    "depth_ch_idx = coords['axis1'][:]\n",
    "\n",
    "new_ch_depth = np.zeros((384))\n",
    "\n",
    "for i in range(384):\n",
    "    idx = depth_ch_idx[i]\n",
    "    new_ch_depth[i] = coords['block0_values'][:][:, 3][idx]"
   ]
  },
  {
   "cell_type": "code",
   "execution_count": 8,
   "id": "250f5228-cdf0-4ceb-a1f8-a17ccdab768c",
   "metadata": {},
   "outputs": [],
   "source": [
    "# Save list of ch depths\n",
    "\n",
    "np.save(f'./{year}_{month}_{day}/ch_depth_{year}{month}{day}', new_ch_depth)"
   ]
  }
 ],
 "metadata": {
  "kernelspec": {
   "display_name": "Python 3 (ipykernel)",
   "language": "python",
   "name": "python3"
  },
  "language_info": {
   "codemirror_mode": {
    "name": "ipython",
    "version": 3
   },
   "file_extension": ".py",
   "mimetype": "text/x-python",
   "name": "python",
   "nbconvert_exporter": "python",
   "pygments_lexer": "ipython3",
   "version": "3.12.4"
  }
 },
 "nbformat": 4,
 "nbformat_minor": 5
}
