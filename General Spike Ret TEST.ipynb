{
 "cells": [
  {
   "cell_type": "code",
   "execution_count": 2,
   "id": "ea64659e-f244-4805-96ff-1d2a70e0d5ca",
   "metadata": {},
   "outputs": [],
   "source": [
    "# initial imports\n",
    "\n",
    "import h5py\n",
    "import numpy as np\n",
    "from scipy import stats\n",
    "from sklearn.model_selection import train_test_split\n",
    "from sklearn.metrics import r2_score\n",
    "import pickle\n",
    "import pandas as pd\n",
    "\n",
    "import torchvision\n",
    "import torch\n",
    "from torchvision.io import read_image\n",
    "from torchvision.models import resnet50, ResNet50_Weights\n",
    "import torch.optim as optim\n",
    "\n",
    "\n",
    "import matplotlib as mpl\n",
    "from matplotlib import pyplot as plt"
   ]
  },
  {
   "cell_type": "code",
   "execution_count": 3,
   "id": "dc564bd5-55dd-465d-a083-d53dc2373d06",
   "metadata": {},
   "outputs": [],
   "source": [
    "# Set session, bins\n",
    "year = '2024'\n",
    "month = '04'\n",
    "day = '03'\n",
    "\n",
    "start_bin = -.1\n",
    "end_bin = .301\n",
    "blank_or_nonblank = 'blank'"
   ]
  },
  {
   "cell_type": "code",
   "execution_count": 4,
   "id": "3549721d-2bc3-45c4-bc76-2b39d0646cca",
   "metadata": {},
   "outputs": [
    {
     "data": {
      "text/plain": [
       "['data',\n",
       " 'site_coordinates',\n",
       " 'stim_indices',\n",
       " 'trial_params',\n",
       " 'trial_params_short']"
      ]
     },
     "execution_count": 4,
     "metadata": {},
     "output_type": "execute_result"
    }
   ],
   "source": [
    "# Load the data\n",
    "\n",
    "pathname = f'/Users/parsatalaie/Desktop/Marmoset Datasets/{year}{month}{day}_all_psth.h5'\n",
    "\n",
    "f = h5py.File(pathname)\n",
    "list(f.keys())"
   ]
  },
  {
   "cell_type": "code",
   "execution_count": 14,
   "id": "3dc28700-8de9-4484-b288-1de9032b6d68",
   "metadata": {
    "jupyter": {
     "source_hidden": true
    }
   },
   "outputs": [
    {
     "name": "stdout",
     "output_type": "stream",
     "text": [
      "['/Users/parsatalaie/Desktop/Marmoset Data Analysis', '/opt/anaconda3/lib/python312.zip', '/opt/anaconda3/lib/python3.12', '/opt/anaconda3/lib/python3.12/lib-dynload', '', '/opt/anaconda3/lib/python3.12/site-packages', '/opt/anaconda3/lib/python3.12/site-packages/aeosa']\n"
     ]
    },
    {
     "name": "stderr",
     "output_type": "stream",
     "text": [
      "/Users/parsatalaie/Desktop/Issa Data/data_analysis_tools_mkTurk/general.py:22: UserWarning: Failed to import analysis_metadata module.\n",
      "  warnings.warn('Failed to import analysis_metadata module.')\n",
      "/Users/parsatalaie/Desktop/Issa Data/data_analysis_tools_mkTurk/IO.py:19: UserWarning: Failed to import analysis_metadata module.\n",
      "  warnings.warn('Failed to import analysis_metadata module.')\n"
     ]
    }
   ],
   "source": [
    "# Add path to and import mkturk analysis tools\n",
    "\n",
    "from sys import path\n",
    "\n",
    "print(path)\n",
    "\n",
    "path.append('/Users/parsatalaie/Desktop/Issa Data')\n",
    "\n",
    "from data_analysis_tools_mkTurk.utils_meta import get_recording_path\n",
    "from data_analysis_tools_mkTurk.general import df_2_psth_mat\n",
    "from data_analysis_tools_mkTurk.IO import ch_dicts_2_h5, h5_2_trial_df, h5_2_df"
   ]
  },
  {
   "cell_type": "code",
   "execution_count": null,
   "id": "901e7ff0-e5dc-4886-aee8-591d6bf5b328",
   "metadata": {},
   "outputs": [],
   "source": [
    "'''\n",
    "Check if issue is filtering of df: start with all trials\n",
    "'''"
   ]
  },
  {
   "cell_type": "code",
   "execution_count": 18,
   "id": "6c51b498-46d2-4227-8a63-e60a7c975d0b",
   "metadata": {},
   "outputs": [
    {
     "name": "stdout",
     "output_type": "stream",
     "text": [
      "Fetching trial parameters...\n",
      "... done (0.025144100189208984 sec).\n",
      "Pre-fetching PSTHs from HDF5...\n"
     ]
    },
    {
     "name": "stderr",
     "output_type": "stream",
     "text": [
      "/opt/anaconda3/lib/python3.12/site-packages/tables/attributeset.py:290: DataTypeWarning: Unsupported type for attribute 'scenefile_by_stim_mat' in node '/'. Offending HDF5 class: 8\n",
      "  value = self._g_getattr(self._v_node, name)\n"
     ]
    },
    {
     "name": "stdout",
     "output_type": "stream",
     "text": [
      "... done.\n",
      "Duration=0.009792168935139975 minutes\n",
      "Fancy slicing numpy array...\n",
      "... done.\n",
      "Duration=0.01616644859313965 minutes\n"
     ]
    }
   ],
   "source": [
    "# h5_2_df the whole file (same time_window)\n",
    "\n",
    "time_window = [start_bin, end_bin]\n",
    "all_data = h5_2_df(pathname, time_window=time_window)"
   ]
  },
  {
   "cell_type": "code",
   "execution_count": null,
   "id": "d392b131-d5b5-414c-b34a-5fd69f7e76e6",
   "metadata": {},
   "outputs": [],
   "source": [
    "# Apply masks\n",
    "\n",
    "nan_mask = all_data.apply(lambda x : np.all(np.isnan(x.psth)), axis=1)\n",
    "fix_all_data = all_data[-mask]\n",
    "scenefile_mask = fix_all_data['scenefile'] == '/mkturkfiles/scenebags/West/20231025_Rust_NaturalImages300_300ms.json'\n",
    "final_all_data = fix_all_data[scenefile_mask]"
   ]
  },
  {
   "cell_type": "code",
   "execution_count": 226,
   "id": "10bb0663-3c24-4bbe-9c9a-bc33d42f6713",
   "metadata": {},
   "outputs": [],
   "source": [
    "# Convert trial_num, rsvp_num to int64 (for some reason)\n",
    "\n",
    "final_all_data['trial_num'] = final_all_data['trial_num'].astype('int64')\n",
    "final_all_data['rsvp_num'] = final_all_data['rsvp_num'].astype('int64')"
   ]
  },
  {
   "cell_type": "code",
   "execution_count": 229,
   "id": "241be953-397a-4c6b-b407-e5fe44ce96b3",
   "metadata": {},
   "outputs": [
    {
     "name": "stdout",
     "output_type": "stream",
     "text": [
      "DataFrames are identical\n"
     ]
    }
   ],
   "source": [
    "# Check if equivalent\n",
    "\n",
    "try:\n",
    "    pd.testing.assert_frame_equal(final_all_data, fixed_rust_data)\n",
    "    print(\"DataFrames are identical\")\n",
    "except AssertionError:\n",
    "    print(\"DataFrames are different\")"
   ]
  },
  {
   "cell_type": "code",
   "execution_count": null,
   "id": "d4919f0c-fd41-4691-9a2f-57ddd5ebbfe2",
   "metadata": {},
   "outputs": [],
   "source": []
  },
  {
   "cell_type": "code",
   "execution_count": null,
   "id": "616d6183-c1a0-4969-925e-28cea55023e2",
   "metadata": {},
   "outputs": [],
   "source": [
    "# If want to merge rsvp and trial columns\n",
    "\n",
    "all_data['rsvp_num'] = all_data['rsvp_num'].astype('str')\n",
    "\n",
    "all_data['trial_num'] = all_data['trial_num'].astype('str')\n",
    "\n",
    "all_data['trial_num'].str.cat(all_data['rsvp_num'], sep='')"
   ]
  },
  {
   "cell_type": "code",
   "execution_count": null,
   "id": "58e3b5bd-7da4-478e-8b09-e32283c4623b",
   "metadata": {},
   "outputs": [],
   "source": []
  },
  {
   "cell_type": "code",
   "execution_count": null,
   "id": "6d0dd0f7-a882-41b9-a971-8cf3aae873e2",
   "metadata": {},
   "outputs": [],
   "source": []
  },
  {
   "cell_type": "code",
   "execution_count": 41,
   "id": "f6c74fc8-f578-4f73-a7e8-01e7222bcaea",
   "metadata": {
    "scrolled": true
   },
   "outputs": [
    {
     "name": "stderr",
     "output_type": "stream",
     "text": [
      "/opt/anaconda3/lib/python3.12/site-packages/tables/attributeset.py:290: DataTypeWarning: Unsupported type for attribute 'scenefile_by_stim_mat' in node '/'. Offending HDF5 class: 8\n",
      "  value = self._g_getattr(self._v_node, name)\n"
     ]
    }
   ],
   "source": [
    "# Create, print trial_params\n",
    "\n",
    "trial_params = h5_2_trial_df(pathname)"
   ]
  },
  {
   "cell_type": "code",
   "execution_count": 42,
   "id": "7fd8cf4e-ed81-41c1-aa63-e0335962d1be",
   "metadata": {},
   "outputs": [
    {
     "data": {
      "text/plain": [
       "array(['/mkturkfiles/scenebags/West/20231025_Rust_NaturalImages300_300ms.json',\n",
       "       '/mkturkfiles/scenebags/West/20231025_Var6vbslir_set0_im151_elias_dur300ms_lab_updated.json',\n",
       "       '/mkturkfiles/scenebags/West/20231025_Var6vbslir_set0_im151_neptune_dur300ms_lab_updated.json',\n",
       "       '/mkturkfiles/scenebags/West/BlankStim_300ms.json',\n",
       "       '/mkturkfiles/scenebags/West/neural_stim_4_0ABCDEFGHIJ.json'],\n",
       "      dtype=object)"
      ]
     },
     "execution_count": 42,
     "metadata": {},
     "output_type": "execute_result"
    }
   ],
   "source": [
    "# List scenefiles\n",
    "\n",
    "trial_params['scenefile'].unique()"
   ]
  },
  {
   "cell_type": "code",
   "execution_count": 45,
   "id": "e7f6125c-3b09-45fc-b036-096b573203c4",
   "metadata": {},
   "outputs": [],
   "source": [
    "# Rust\n",
    "scenefiles = ['/mkturkfiles/scenebags/West/20231025_Rust_NaturalImages300_300ms.json']"
   ]
  },
  {
   "cell_type": "code",
   "execution_count": 44,
   "id": "a04ecb07-bae9-4669-9e60-3a4d9b3b9890",
   "metadata": {},
   "outputs": [],
   "source": [
    "# HvM\n",
    "scenefiles = ['/mkturkfiles/scenebags/West/hvm10_table_45_20240906.json',\n",
    "       '/mkturkfiles/scenebags/West/hvm10_elephant_45_20240906.json',\n",
    "       '/mkturkfiles/scenebags/West/hvm10_dog_45_20240906.json',\n",
    "       '/mkturkfiles/scenebags/West/hvm10_bear_45_20240906.json',\n",
    "       '/mkturkfiles/scenebags/West/hvm10_chair_45_20240906.json',\n",
    "       '/mkturkfiles/scenebags/West/hvm10_car_45_20240906.json',\n",
    "       '/mkturkfiles/scenebags/West/hvm10_turtle_45_20240906.json',\n",
    "       '/mkturkfiles/scenebags/West/hvm10_plane_45_20240906.json',\n",
    "       '/mkturkfiles/scenebags/West/hvm10_apple_45_20240906.json',\n",
    "       '/mkturkfiles/scenebags/West/hvm10_head_45_20240906.json']"
   ]
  },
  {
   "cell_type": "code",
   "execution_count": 122,
   "id": "4c0db365-32ac-4854-8456-1813cd80168c",
   "metadata": {
    "scrolled": true
   },
   "outputs": [
    {
     "name": "stdout",
     "output_type": "stream",
     "text": [
      "Pre-fetching PSTHs from HDF5...\n",
      "... done.\n",
      "Duration=0.008795066674550375 minutes\n",
      "Fancy slicing numpy array...\n",
      "... done.\n",
      "Duration=0.008574716250101725 minutes\n",
      "Fetching trial parameters...\n",
      "... done (0.011053085327148438 sec).\n",
      "inds_df.shape = (4050, 2)\n"
     ]
    },
    {
     "name": "stderr",
     "output_type": "stream",
     "text": [
      "/opt/anaconda3/lib/python3.12/site-packages/tables/attributeset.py:290: DataTypeWarning: Unsupported type for attribute 'scenefile_by_stim_mat' in node '/'. Offending HDF5 class: 8\n",
      "  value = self._g_getattr(self._v_node, name)\n"
     ]
    },
    {
     "name": "stdout",
     "output_type": "stream",
     "text": [
      "Pre-fetching PSTHs from HDF5...\n",
      "... done.\n",
      "Duration=0.007747415701548258 minutes\n",
      "Fancy slicing numpy array...\n",
      "... done.\n",
      "Duration=0.006803731123606364 minutes\n"
     ]
    }
   ],
   "source": [
    "# Select stimulus presentations associated with requested scenefiles:\n",
    "filter = trial_params.scenefile.isin(scenefiles)\n",
    "rust_trials = trial_params[filter]\n",
    "array_filter = np.array(rust_trials[['trial_num', 'rsvp_num']])\n",
    "\n",
    "# Read spike count data from HDF5 for requested trials:\n",
    "time_window = [start_bin, end_bin] # Beginning and end of peristimulus time window for each stim, relative to trigger in seconds\n",
    "df_filt_rust_data = h5_2_df(pathname, trials=rust_trials, time_window=time_window)\n",
    "arr_filt_rust_data = h5_2_df(pathname, trials=array_filter, time_window=time_window)\n",
    "\n",
    "\n",
    "# Sort rust_data to match trial_params, rust_trials\n",
    "df_filt_rust_data.sort_index(inplace=True)\n",
    "arr_filt_rust_data.sort_index(inplace=True)\n",
    "\n",
    "# Create spikes df\n",
    "spikes = df_2_psth_mat(rust_data)\n",
    "ch_tot = spikes.shape[0]\n",
    "bin_tot = spikes.shape[1]\n",
    "stim_tot = spikes.shape[2]"
   ]
  },
  {
   "cell_type": "code",
   "execution_count": 145,
   "id": "49b9aa96-cf12-4960-9f90-35e060d8cbad",
   "metadata": {
    "scrolled": true
   },
   "outputs": [
    {
     "data": {
      "text/plain": [
       "3364"
      ]
     },
     "execution_count": 145,
     "metadata": {},
     "output_type": "execute_result"
    }
   ],
   "source": [
    "test = 0\n",
    "for i in range(4050):\n",
    "    compare = (arr_filt_rust_data['psth'].iloc[i] == df_filt_rust_data['psth'].iloc[i])\n",
    "    if np.all(compare):\n",
    "        test += 1\n",
    "\n",
    "test"
   ]
  },
  {
   "cell_type": "code",
   "execution_count": null,
   "id": "c11a25c9-dd6c-4cc5-b10f-6a5f7cff577c",
   "metadata": {},
   "outputs": [],
   "source": [
    "'''\n",
    "Use masking to get rid of nan\n",
    "'''"
   ]
  },
  {
   "cell_type": "code",
   "execution_count": 117,
   "id": "1a0c6108-5260-48cb-94f5-b94050fc13d3",
   "metadata": {
    "scrolled": true
   },
   "outputs": [],
   "source": [
    "# Create mask\n",
    "mask = rust_data.apply(lambda x : np.all(np.isnan(x.psth)), axis=1)"
   ]
  },
  {
   "cell_type": "code",
   "execution_count": 158,
   "id": "cd006f66-247c-478a-a6aa-3b517056a02a",
   "metadata": {},
   "outputs": [],
   "source": [
    "df_mask = df_filt_rust_data.apply(lambda x : np.all(np.isnan(x.psth)), axis=1)\n",
    "arr_mask = arr_filt_rust_data.apply(lambda x : np.all(np.isnan(x.psth)), axis=1)"
   ]
  },
  {
   "cell_type": "code",
   "execution_count": 172,
   "id": "3e9c2a60-a35e-4453-bb9d-d24806fdac58",
   "metadata": {
    "scrolled": true
   },
   "outputs": [],
   "source": [
    "arr_filt_rust_data = arr_filt_rust_data[-arr_mask]\n",
    "arr_filt_rust_data = df_filt_rust_data[-df_mask]"
   ]
  },
  {
   "cell_type": "code",
   "execution_count": null,
   "id": "20460421-f160-4602-a6ad-56b006bad0ca",
   "metadata": {},
   "outputs": [],
   "source": []
  },
  {
   "cell_type": "code",
   "execution_count": null,
   "id": "a841a5aa-0377-4313-bb3a-5d9a56da2824",
   "metadata": {},
   "outputs": [],
   "source": [
    "arr_filt_rust_data_prime = arr_filt_rust_data.copy()\n",
    "X = df_filt_rust_data['psth']\n",
    "arr_filt_rust_data_prime['psth_prime'] = X\n",
    "c = arr_filt_rust_data_prime.apply(lambda  x : np.all(x.psth==x.psth_prime), axis=1)\n",
    "\n",
    "D = pd.merge(arr_filt_rust_data[['trial_num', 'rsvp_num', 'psth']], df_filt_rust_data[['trial_num', 'rsvp_num', 'psth']], on=['trial_num', 'rsvp_num'])\n",
    "\n",
    "D.apply(lambda x : np.all(x.psth_x==x.psth_y), axis=1).sum()"
   ]
  },
  {
   "cell_type": "code",
   "execution_count": 156,
   "id": "e26347e6-58a0-464c-a5c9-79f260df7f8c",
   "metadata": {},
   "outputs": [],
   "source": [
    "arr_filt_rust_data = arr_filt_rust_data.drop(columns = 'psth_hat')"
   ]
  },
  {
   "cell_type": "code",
   "execution_count": 119,
   "id": "7c6d8115-3322-491e-836b-1a062eada9d8",
   "metadata": {},
   "outputs": [],
   "source": [
    "final_data = rust_data[-mask]"
   ]
  },
  {
   "cell_type": "code",
   "execution_count": 121,
   "id": "707d23ac-3216-491e-b7d8-071ec6f32e20",
   "metadata": {},
   "outputs": [
    {
     "data": {
      "text/plain": [
       "(7086, 11)"
      ]
     },
     "execution_count": 121,
     "metadata": {},
     "output_type": "execute_result"
    }
   ],
   "source": [
    "final_data.shape"
   ]
  },
  {
   "cell_type": "code",
   "execution_count": null,
   "id": "1828d1e1-eb08-4e5b-bc96-90f51cc40075",
   "metadata": {},
   "outputs": [],
   "source": []
  },
  {
   "cell_type": "code",
   "execution_count": 47,
   "id": "7b710a19-c370-496b-9ea8-0f351eb37dbc",
   "metadata": {},
   "outputs": [
    {
     "name": "stdout",
     "output_type": "stream",
     "text": [
      "Truth!\n"
     ]
    }
   ],
   "source": [
    "# get idx of nan stimuli, check if same for all channels\n",
    "\n",
    "equ = 0\n",
    "\n",
    "test_ch = spikes[0]\n",
    "nan_idx = np.zeros((stim_tot))\n",
    "\n",
    "for column_index in range(stim_tot):\n",
    "    nan_tot = np.isnan(test_ch[:, column_index]).sum()\n",
    "    if nan_tot == bin_tot:\n",
    "        nan_idx[column_index] = True\n",
    "nan_idx_arr_0 = np.where(nan_idx == True)[0]\n",
    "\n",
    "for ch in range(ch_tot):\n",
    "    test_ch = spikes[ch]\n",
    "    nan_idx = np.zeros((stim_tot))\n",
    "    for column_index in range(stim_tot):\n",
    "        nan_tot = np.isnan(test_ch[:, column_index]).sum()\n",
    "        if nan_tot == bin_tot:\n",
    "            nan_idx[column_index] = True\n",
    "    nan_idx_arr = np.where(nan_idx == True)[0]\n",
    "    if np.array_equal(nan_idx_arr, nan_idx_arr_0):\n",
    "        equ += 1\n",
    "\n",
    "if equ == ch_tot:\n",
    "    print('Truth!')"
   ]
  },
  {
   "cell_type": "code",
   "execution_count": 48,
   "id": "5a8010c0-8882-458f-8c5d-63611064ffc8",
   "metadata": {},
   "outputs": [
    {
     "name": "stdout",
     "output_type": "stream",
     "text": [
      "Number of usable trials: 3364\n"
     ]
    }
   ],
   "source": [
    "print(f'Number of usable trials: {stim_tot-nan_idx_arr.shape[0]}')"
   ]
  },
  {
   "cell_type": "code",
   "execution_count": 18,
   "id": "c0ad48cc-3a7a-4267-9e5f-443a2ac2fc34",
   "metadata": {},
   "outputs": [
    {
     "data": {
      "text/plain": [
       "'\\nDelete unusable trials from dataframe instead of spikes\\nCreate fixed spikes, average it\\n'"
      ]
     },
     "execution_count": 18,
     "metadata": {},
     "output_type": "execute_result"
    }
   ],
   "source": [
    "'''\n",
    "Delete unusable trials from dataframe instead of spikes\n",
    "Create fixed spikes, average it\n",
    "'''"
   ]
  },
  {
   "cell_type": "code",
   "execution_count": 49,
   "id": "ae10ae2c-2adb-412b-a669-015554503542",
   "metadata": {},
   "outputs": [
    {
     "data": {
      "text/plain": [
       "(384, 40, 3364)"
      ]
     },
     "execution_count": 49,
     "metadata": {},
     "output_type": "execute_result"
    }
   ],
   "source": [
    "### Create fixed_rust_data, fixed_spikes (remove nan trials)\n",
    "# Reset indices (helps when removing unusable stimuli)\n",
    "rust_data.reset_index(drop=True, inplace=True)\n",
    "fixed_rust_data = rust_data.drop(nan_idx_arr)\n",
    "fixed_spikes = df_2_psth_mat(fixed_rust_data)\n",
    "fixed_spikes.shape"
   ]
  },
  {
   "cell_type": "code",
   "execution_count": 50,
   "id": "f74644eb-1730-48e2-a64e-275d411854b3",
   "metadata": {},
   "outputs": [
    {
     "data": {
      "text/plain": [
       "0"
      ]
     },
     "execution_count": 50,
     "metadata": {},
     "output_type": "execute_result"
    }
   ],
   "source": [
    "# Check for remaining nan\n",
    "np.isnan(fixed_spikes).sum()"
   ]
  },
  {
   "cell_type": "code",
   "execution_count": 51,
   "id": "1ef4ea59-3cb6-40f8-b7a7-65ebe8f71f19",
   "metadata": {},
   "outputs": [
    {
     "data": {
      "text/plain": [
       "(384, 3364)"
      ]
     },
     "execution_count": 51,
     "metadata": {},
     "output_type": "execute_result"
    }
   ],
   "source": [
    "# Create avg_spikes\n",
    "avg_spikes = np.mean(fixed_spikes, axis=1)\n",
    "avg_spikes.shape"
   ]
  },
  {
   "cell_type": "code",
   "execution_count": 22,
   "id": "a24e886b-b9b6-4fa5-a788-34f3f6fa7da0",
   "metadata": {},
   "outputs": [
    {
     "data": {
      "text/plain": [
       "'\\nCreate natimg_path_list\\n'"
      ]
     },
     "execution_count": 22,
     "metadata": {},
     "output_type": "execute_result"
    }
   ],
   "source": [
    "'''\n",
    "Create natimg_path_list\n",
    "'''"
   ]
  },
  {
   "cell_type": "code",
   "execution_count": 52,
   "id": "4b38e11d-cea6-4aa5-a610-361022ab1578",
   "metadata": {},
   "outputs": [
    {
     "data": {
      "text/plain": [
       "3364"
      ]
     },
     "execution_count": 52,
     "metadata": {},
     "output_type": "execute_result"
    }
   ],
   "source": [
    "# RUST NATIMG_PATH_LIST\n",
    "natimg_path_list = []\n",
    "\n",
    "for i in fixed_rust_data['stim_idx']:\n",
    "    natimg_path_list.append(f'/Users/parsatalaie/Downloads/rust_natimgs/Nat300_{i+1}.png')\n",
    "\n",
    "len(natimg_path_list)"
   ]
  },
  {
   "cell_type": "code",
   "execution_count": 65,
   "id": "ea9c0aa2-db97-4d2f-a790-9c37a5c34472",
   "metadata": {
    "jupyter": {
     "source_hidden": true
    }
   },
   "outputs": [
    {
     "data": {
      "text/plain": [
       "3364"
      ]
     },
     "execution_count": 65,
     "metadata": {},
     "output_type": "execute_result"
    }
   ],
   "source": [
    "# HVM NATIMG_PATH_LIST\n",
    "start_idx = 51\n",
    "alter_hvm_path = lambda hvm_path : '/Users/parsatalaie/Desktop/Marmoset Datasets/' + hvm_path[start_idx:]\n",
    "natimg_paths = fixed_rust_data['img_full_path'].apply(alter_hvm_path)\n",
    "natimg_path_list = natimg_paths.tolist()\n",
    "len(natimg_path_list)"
   ]
  },
  {
   "cell_type": "code",
   "execution_count": null,
   "id": "a60df226-057e-4722-9f2b-29a44f498455",
   "metadata": {},
   "outputs": [],
   "source": [
    "'''\n",
    "Compare to 2024 natimg_path_list\n",
    "'''"
   ]
  },
  {
   "cell_type": "code",
   "execution_count": 53,
   "id": "f87428c8-8ad3-427c-8acf-2471b4b9ab43",
   "metadata": {},
   "outputs": [],
   "source": [
    "# load good (2024) natimg_path_list\n",
    "\n",
    "with open(f'./2024_{month}_{day}/natimg_path_list_2024{month}{day}', 'rb') as fp:   # Unpickling\n",
    "    tt4_natimg_path_list = pickle.load(fp)"
   ]
  },
  {
   "cell_type": "code",
   "execution_count": 56,
   "id": "5cf28895-b91b-417e-849a-d29d77a522d9",
   "metadata": {},
   "outputs": [],
   "source": [
    "tt4_sorted_paths = [int(path[:-4][49:]) for path in tt4_natimg_path_list]\n",
    "tt4_sorted_paths.sort()"
   ]
  },
  {
   "cell_type": "code",
   "execution_count": 242,
   "id": "3fadb623-1798-45cd-aca3-8c109c73d81b",
   "metadata": {},
   "outputs": [],
   "source": [
    "sorted_paths = np.sort(np.array(fixed_rust_data['stim_idx']))"
   ]
  },
  {
   "cell_type": "code",
   "execution_count": 246,
   "id": "b151c7d4-180f-411a-8a15-3b2e8748cfbe",
   "metadata": {},
   "outputs": [],
   "source": [
    "unique, counts = np.unique(np.array(test_list), return_counts=True)\n",
    "test_counts = dict(zip(unique, counts))"
   ]
  },
  {
   "cell_type": "code",
   "execution_count": 59,
   "id": "9b167d30-108d-4605-89ba-9ffe772294f5",
   "metadata": {},
   "outputs": [
    {
     "data": {
      "text/plain": [
       "array([ True,  True,  True,  True,  True,  True,  True,  True, False,\n",
       "       False, False,  True,  True,  True,  True,  True,  True,  True,\n",
       "        True, False,  True,  True,  True,  True,  True,  True,  True,\n",
       "        True,  True,  True,  True, False, False, False,  True,  True,\n",
       "        True,  True,  True,  True, False, False, False, False, False,\n",
       "       False,  True,  True,  True,  True])"
      ]
     },
     "execution_count": 59,
     "metadata": {},
     "output_type": "execute_result"
    }
   ],
   "source": [
    "(np.array(tt4_sorted_paths) == np.sort(np.array(fixed_rust_data['stim_idx']))+1)[:50]"
   ]
  },
  {
   "cell_type": "code",
   "execution_count": 60,
   "id": "f487655f-632a-465b-9a44-46cf1dbdd341",
   "metadata": {
    "scrolled": true
   },
   "outputs": [],
   "source": [
    "unique, counts = np.unique(np.array(tt4_sorted_paths), return_counts=True)\n",
    "tt4_counts = dict(zip(unique, counts))"
   ]
  },
  {
   "cell_type": "code",
   "execution_count": 251,
   "id": "34b4b275-24ea-4087-9573-05bf5f943312",
   "metadata": {
    "scrolled": true
   },
   "outputs": [],
   "source": [
    "unique, counts = np.unique((np.array(fixed_rust_data['stim_idx']))+1, return_counts=True)\n",
    "new_counts = dict(zip(unique, counts))"
   ]
  },
  {
   "cell_type": "code",
   "execution_count": 62,
   "id": "ef72f7c1-36c6-48df-9a1f-c6fcee6454aa",
   "metadata": {
    "scrolled": true
   },
   "outputs": [
    {
     "data": {
      "text/plain": [
       "{1: 11,\n",
       " 2: 9,\n",
       " 3: 14,\n",
       " 4: 12,\n",
       " 5: 9,\n",
       " 6: 14,\n",
       " 7: 11,\n",
       " 8: 9,\n",
       " 9: 12,\n",
       " 10: 10,\n",
       " 11: 13,\n",
       " 12: 11,\n",
       " 13: 7,\n",
       " 14: 12,\n",
       " 15: 10,\n",
       " 16: 11,\n",
       " 17: 9,\n",
       " 18: 10,\n",
       " 19: 13,\n",
       " 20: 11,\n",
       " 21: 13,\n",
       " 22: 13,\n",
       " 23: 10,\n",
       " 24: 14,\n",
       " 25: 14,\n",
       " 26: 13,\n",
       " 27: 13,\n",
       " 28: 13,\n",
       " 29: 13,\n",
       " 30: 9,\n",
       " 31: 13,\n",
       " 32: 13,\n",
       " 33: 9,\n",
       " 34: 8,\n",
       " 35: 11,\n",
       " 36: 12,\n",
       " 37: 11,\n",
       " 38: 10,\n",
       " 39: 13,\n",
       " 40: 11,\n",
       " 41: 14,\n",
       " 42: 12,\n",
       " 43: 13,\n",
       " 44: 13,\n",
       " 45: 13,\n",
       " 46: 7,\n",
       " 47: 12,\n",
       " 48: 11,\n",
       " 49: 13,\n",
       " 50: 12,\n",
       " 51: 13,\n",
       " 52: 10,\n",
       " 53: 12,\n",
       " 54: 11,\n",
       " 55: 9,\n",
       " 56: 11,\n",
       " 57: 14,\n",
       " 58: 11,\n",
       " 59: 10,\n",
       " 60: 12,\n",
       " 61: 12,\n",
       " 62: 9,\n",
       " 63: 13,\n",
       " 64: 13,\n",
       " 65: 13,\n",
       " 66: 9,\n",
       " 67: 8,\n",
       " 68: 14,\n",
       " 69: 9,\n",
       " 70: 10,\n",
       " 71: 11,\n",
       " 72: 14,\n",
       " 73: 12,\n",
       " 74: 15,\n",
       " 75: 12,\n",
       " 76: 11,\n",
       " 77: 11,\n",
       " 78: 11,\n",
       " 79: 13,\n",
       " 80: 10,\n",
       " 81: 12,\n",
       " 82: 12,\n",
       " 83: 10,\n",
       " 84: 10,\n",
       " 85: 7,\n",
       " 86: 10,\n",
       " 87: 11,\n",
       " 88: 9,\n",
       " 89: 12,\n",
       " 90: 9,\n",
       " 91: 13,\n",
       " 92: 12,\n",
       " 93: 14,\n",
       " 94: 10,\n",
       " 95: 11,\n",
       " 96: 10,\n",
       " 97: 13,\n",
       " 98: 11,\n",
       " 99: 11,\n",
       " 100: 5,\n",
       " 101: 11,\n",
       " 102: 12,\n",
       " 103: 10,\n",
       " 104: 14,\n",
       " 105: 13,\n",
       " 106: 10,\n",
       " 107: 14,\n",
       " 108: 8,\n",
       " 109: 10,\n",
       " 110: 13,\n",
       " 111: 13,\n",
       " 112: 14,\n",
       " 113: 13,\n",
       " 114: 12,\n",
       " 115: 11,\n",
       " 116: 12,\n",
       " 117: 9,\n",
       " 118: 13,\n",
       " 119: 7,\n",
       " 120: 12,\n",
       " 121: 14,\n",
       " 122: 14,\n",
       " 123: 9,\n",
       " 124: 8,\n",
       " 125: 7,\n",
       " 126: 8,\n",
       " 127: 11,\n",
       " 128: 12,\n",
       " 129: 11,\n",
       " 130: 11,\n",
       " 131: 11,\n",
       " 132: 14,\n",
       " 133: 10,\n",
       " 134: 8,\n",
       " 135: 10,\n",
       " 136: 9,\n",
       " 137: 11,\n",
       " 138: 11,\n",
       " 139: 11,\n",
       " 140: 12,\n",
       " 141: 13,\n",
       " 142: 13,\n",
       " 143: 11,\n",
       " 144: 9,\n",
       " 145: 8,\n",
       " 146: 12,\n",
       " 147: 9,\n",
       " 148: 13,\n",
       " 149: 12,\n",
       " 150: 8,\n",
       " 151: 7,\n",
       " 152: 12,\n",
       " 153: 9,\n",
       " 154: 11,\n",
       " 155: 13,\n",
       " 156: 13,\n",
       " 157: 8,\n",
       " 158: 12,\n",
       " 159: 8,\n",
       " 160: 6,\n",
       " 161: 11,\n",
       " 162: 13,\n",
       " 163: 11,\n",
       " 164: 11,\n",
       " 165: 10,\n",
       " 166: 12,\n",
       " 167: 13,\n",
       " 168: 9,\n",
       " 169: 9,\n",
       " 170: 6,\n",
       " 171: 8,\n",
       " 172: 10,\n",
       " 173: 13,\n",
       " 174: 12,\n",
       " 175: 15,\n",
       " 176: 13,\n",
       " 177: 6,\n",
       " 178: 10,\n",
       " 179: 13,\n",
       " 180: 12,\n",
       " 181: 12,\n",
       " 182: 12,\n",
       " 183: 13,\n",
       " 184: 9,\n",
       " 185: 10,\n",
       " 186: 14,\n",
       " 187: 11,\n",
       " 188: 10,\n",
       " 189: 7,\n",
       " 190: 14,\n",
       " 191: 13,\n",
       " 192: 12,\n",
       " 193: 11,\n",
       " 194: 12,\n",
       " 195: 11,\n",
       " 196: 11,\n",
       " 197: 11,\n",
       " 198: 13,\n",
       " 199: 8,\n",
       " 200: 10,\n",
       " 201: 9,\n",
       " 202: 9,\n",
       " 203: 7,\n",
       " 204: 13,\n",
       " 205: 5,\n",
       " 206: 12,\n",
       " 207: 12,\n",
       " 208: 11,\n",
       " 209: 8,\n",
       " 210: 13,\n",
       " 211: 10,\n",
       " 212: 13,\n",
       " 213: 14,\n",
       " 214: 13,\n",
       " 215: 9,\n",
       " 216: 10,\n",
       " 217: 6,\n",
       " 218: 9,\n",
       " 219: 11,\n",
       " 220: 10,\n",
       " 221: 14,\n",
       " 222: 13,\n",
       " 223: 6,\n",
       " 224: 12,\n",
       " 225: 7,\n",
       " 226: 10,\n",
       " 227: 10,\n",
       " 228: 10,\n",
       " 229: 7,\n",
       " 230: 10,\n",
       " 231: 6,\n",
       " 232: 14,\n",
       " 233: 10,\n",
       " 234: 11,\n",
       " 235: 12,\n",
       " 236: 14,\n",
       " 237: 12,\n",
       " 238: 12,\n",
       " 239: 12,\n",
       " 240: 12,\n",
       " 241: 12,\n",
       " 242: 9,\n",
       " 243: 7,\n",
       " 244: 10,\n",
       " 245: 10,\n",
       " 246: 5,\n",
       " 247: 12,\n",
       " 248: 12,\n",
       " 249: 9,\n",
       " 250: 11,\n",
       " 251: 11,\n",
       " 252: 12,\n",
       " 253: 9,\n",
       " 254: 13,\n",
       " 255: 10,\n",
       " 256: 10,\n",
       " 257: 11,\n",
       " 258: 13,\n",
       " 259: 11,\n",
       " 260: 13,\n",
       " 261: 14,\n",
       " 262: 13,\n",
       " 263: 10,\n",
       " 264: 12,\n",
       " 265: 11,\n",
       " 266: 11,\n",
       " 267: 10,\n",
       " 268: 13,\n",
       " 269: 15,\n",
       " 270: 11,\n",
       " 271: 12,\n",
       " 272: 13,\n",
       " 273: 14,\n",
       " 274: 12,\n",
       " 275: 13,\n",
       " 276: 11,\n",
       " 277: 13,\n",
       " 278: 9,\n",
       " 279: 10,\n",
       " 280: 14,\n",
       " 281: 10,\n",
       " 282: 13,\n",
       " 283: 10,\n",
       " 284: 12,\n",
       " 285: 12,\n",
       " 286: 11,\n",
       " 287: 14,\n",
       " 288: 14,\n",
       " 289: 11,\n",
       " 290: 14,\n",
       " 291: 9,\n",
       " 292: 10,\n",
       " 293: 11,\n",
       " 294: 12,\n",
       " 295: 10,\n",
       " 296: 12,\n",
       " 297: 11,\n",
       " 298: 9,\n",
       " 299: 9,\n",
       " 300: 10,\n",
       " 301: 10,\n",
       " 302: 12,\n",
       " 303: 11,\n",
       " 304: 8,\n",
       " 305: 10}"
      ]
     },
     "execution_count": 62,
     "metadata": {},
     "output_type": "execute_result"
    }
   ],
   "source": [
    "tt4_counts"
   ]
  },
  {
   "cell_type": "code",
   "execution_count": 63,
   "id": "3f67863d-3f16-4962-98f9-ac3c4f50c6e5",
   "metadata": {
    "scrolled": true
   },
   "outputs": [
    {
     "data": {
      "text/plain": [
       "{1: 8,\n",
       " 2: 11,\n",
       " 3: 12,\n",
       " 4: 9,\n",
       " 5: 13,\n",
       " 6: 11,\n",
       " 7: 8,\n",
       " 8: 11,\n",
       " 9: 9,\n",
       " 10: 12,\n",
       " 11: 9,\n",
       " 12: 9,\n",
       " 13: 8,\n",
       " 14: 10,\n",
       " 15: 8,\n",
       " 16: 10,\n",
       " 17: 12,\n",
       " 18: 11,\n",
       " 19: 11,\n",
       " 20: 11,\n",
       " 21: 11,\n",
       " 22: 9,\n",
       " 23: 11,\n",
       " 24: 11,\n",
       " 25: 10,\n",
       " 26: 12,\n",
       " 27: 11,\n",
       " 28: 12,\n",
       " 29: 11,\n",
       " 30: 8,\n",
       " 31: 10,\n",
       " 32: 12,\n",
       " 33: 10,\n",
       " 34: 11,\n",
       " 35: 14,\n",
       " 36: 9,\n",
       " 37: 12,\n",
       " 38: 13,\n",
       " 39: 10,\n",
       " 40: 11,\n",
       " 41: 13,\n",
       " 42: 14,\n",
       " 43: 12,\n",
       " 44: 10,\n",
       " 45: 10,\n",
       " 46: 10,\n",
       " 47: 13,\n",
       " 48: 11,\n",
       " 49: 13,\n",
       " 50: 7,\n",
       " 51: 10,\n",
       " 52: 12,\n",
       " 53: 13,\n",
       " 54: 11,\n",
       " 55: 11,\n",
       " 56: 7,\n",
       " 57: 10,\n",
       " 58: 14,\n",
       " 59: 10,\n",
       " 60: 9,\n",
       " 61: 11,\n",
       " 62: 9,\n",
       " 63: 12,\n",
       " 64: 10,\n",
       " 65: 12,\n",
       " 66: 9,\n",
       " 67: 12,\n",
       " 68: 13,\n",
       " 69: 11,\n",
       " 70: 12,\n",
       " 71: 13,\n",
       " 72: 12,\n",
       " 73: 11,\n",
       " 74: 12,\n",
       " 75: 11,\n",
       " 76: 13,\n",
       " 77: 8,\n",
       " 78: 10,\n",
       " 79: 11,\n",
       " 80: 10,\n",
       " 81: 13,\n",
       " 82: 13,\n",
       " 83: 11,\n",
       " 84: 12,\n",
       " 85: 11,\n",
       " 86: 11,\n",
       " 87: 10,\n",
       " 88: 12,\n",
       " 89: 11,\n",
       " 90: 10,\n",
       " 91: 9,\n",
       " 92: 15,\n",
       " 93: 13,\n",
       " 94: 12,\n",
       " 95: 10,\n",
       " 96: 9,\n",
       " 97: 10,\n",
       " 98: 10,\n",
       " 99: 12,\n",
       " 100: 10,\n",
       " 101: 11,\n",
       " 102: 13,\n",
       " 103: 12,\n",
       " 104: 11,\n",
       " 105: 9,\n",
       " 106: 11,\n",
       " 107: 10,\n",
       " 108: 9,\n",
       " 109: 11,\n",
       " 110: 11,\n",
       " 111: 12,\n",
       " 112: 12,\n",
       " 113: 9,\n",
       " 114: 11,\n",
       " 115: 11,\n",
       " 116: 13,\n",
       " 117: 12,\n",
       " 118: 10,\n",
       " 119: 13,\n",
       " 120: 11,\n",
       " 121: 13,\n",
       " 122: 11,\n",
       " 123: 10,\n",
       " 124: 10,\n",
       " 125: 11,\n",
       " 126: 9,\n",
       " 127: 13,\n",
       " 128: 12,\n",
       " 129: 12,\n",
       " 130: 10,\n",
       " 131: 12,\n",
       " 132: 9,\n",
       " 133: 11,\n",
       " 134: 11,\n",
       " 135: 10,\n",
       " 136: 12,\n",
       " 137: 12,\n",
       " 138: 13,\n",
       " 139: 10,\n",
       " 140: 12,\n",
       " 141: 11,\n",
       " 142: 11,\n",
       " 143: 11,\n",
       " 144: 11,\n",
       " 145: 8,\n",
       " 146: 11,\n",
       " 147: 13,\n",
       " 148: 12,\n",
       " 149: 11,\n",
       " 150: 14,\n",
       " 151: 11,\n",
       " 152: 10,\n",
       " 153: 13,\n",
       " 154: 11,\n",
       " 155: 11,\n",
       " 156: 10,\n",
       " 157: 12,\n",
       " 158: 10,\n",
       " 159: 11,\n",
       " 160: 9,\n",
       " 161: 10,\n",
       " 162: 10,\n",
       " 163: 10,\n",
       " 164: 12,\n",
       " 165: 12,\n",
       " 166: 13,\n",
       " 167: 12,\n",
       " 168: 11,\n",
       " 169: 12,\n",
       " 170: 14,\n",
       " 171: 9,\n",
       " 172: 12,\n",
       " 173: 10,\n",
       " 174: 10,\n",
       " 175: 11,\n",
       " 176: 14,\n",
       " 177: 9,\n",
       " 178: 12,\n",
       " 179: 13,\n",
       " 180: 13,\n",
       " 181: 9,\n",
       " 182: 11,\n",
       " 183: 12,\n",
       " 184: 10,\n",
       " 185: 11,\n",
       " 186: 12,\n",
       " 187: 12,\n",
       " 188: 12,\n",
       " 189: 11,\n",
       " 190: 8,\n",
       " 191: 11,\n",
       " 192: 12,\n",
       " 193: 10,\n",
       " 194: 9,\n",
       " 195: 10,\n",
       " 196: 13,\n",
       " 197: 12,\n",
       " 198: 10,\n",
       " 199: 11,\n",
       " 200: 13,\n",
       " 201: 11,\n",
       " 202: 8,\n",
       " 203: 10,\n",
       " 204: 10,\n",
       " 205: 11,\n",
       " 206: 13,\n",
       " 207: 10,\n",
       " 208: 10,\n",
       " 209: 7,\n",
       " 210: 12,\n",
       " 211: 11,\n",
       " 212: 11,\n",
       " 213: 10,\n",
       " 214: 11,\n",
       " 215: 11,\n",
       " 216: 9,\n",
       " 217: 9,\n",
       " 218: 10,\n",
       " 219: 12,\n",
       " 220: 12,\n",
       " 221: 13,\n",
       " 222: 11,\n",
       " 223: 14,\n",
       " 224: 13,\n",
       " 225: 12,\n",
       " 226: 10,\n",
       " 227: 12,\n",
       " 228: 13,\n",
       " 229: 12,\n",
       " 230: 12,\n",
       " 231: 8,\n",
       " 232: 11,\n",
       " 233: 11,\n",
       " 234: 10,\n",
       " 235: 9,\n",
       " 236: 11,\n",
       " 237: 10,\n",
       " 238: 9,\n",
       " 239: 10,\n",
       " 240: 13,\n",
       " 241: 12,\n",
       " 242: 12,\n",
       " 243: 13,\n",
       " 244: 11,\n",
       " 245: 7,\n",
       " 246: 10,\n",
       " 247: 13,\n",
       " 248: 12,\n",
       " 249: 12,\n",
       " 250: 11,\n",
       " 251: 12,\n",
       " 252: 10,\n",
       " 253: 12,\n",
       " 254: 11,\n",
       " 255: 10,\n",
       " 256: 11,\n",
       " 257: 13,\n",
       " 258: 9,\n",
       " 259: 11,\n",
       " 260: 10,\n",
       " 261: 13,\n",
       " 262: 13,\n",
       " 263: 12,\n",
       " 264: 12,\n",
       " 265: 13,\n",
       " 266: 11,\n",
       " 267: 9,\n",
       " 268: 11,\n",
       " 269: 15,\n",
       " 270: 9,\n",
       " 271: 13,\n",
       " 272: 12,\n",
       " 273: 12,\n",
       " 274: 8,\n",
       " 275: 11,\n",
       " 276: 10,\n",
       " 277: 13,\n",
       " 278: 13,\n",
       " 279: 11,\n",
       " 280: 14,\n",
       " 281: 10,\n",
       " 282: 14,\n",
       " 283: 13,\n",
       " 284: 11,\n",
       " 285: 9,\n",
       " 286: 10,\n",
       " 287: 11,\n",
       " 288: 13,\n",
       " 289: 11,\n",
       " 290: 10,\n",
       " 291: 10,\n",
       " 292: 10,\n",
       " 293: 12,\n",
       " 294: 10,\n",
       " 295: 10,\n",
       " 296: 10,\n",
       " 297: 11,\n",
       " 298: 9,\n",
       " 299: 10,\n",
       " 300: 13,\n",
       " 301: 12,\n",
       " 302: 11,\n",
       " 303: 11,\n",
       " 304: 12,\n",
       " 305: 11}"
      ]
     },
     "execution_count": 63,
     "metadata": {},
     "output_type": "execute_result"
    }
   ],
   "source": [
    "new_counts"
   ]
  },
  {
   "cell_type": "code",
   "execution_count": null,
   "id": "4ff69664-3da4-481e-a53e-669fcf21fdba",
   "metadata": {},
   "outputs": [],
   "source": []
  },
  {
   "cell_type": "code",
   "execution_count": 43,
   "id": "5085a198-69e7-42da-ba76-c2d9face084f",
   "metadata": {
    "scrolled": true
   },
   "outputs": [],
   "source": [
    "starting_index = 0\n",
    "start_idx_arr = []\n",
    "for i in counts:\n",
    "    starting_index += counts[i]\n",
    "    start_idx_arr.append(starting_index)"
   ]
  },
  {
   "cell_type": "code",
   "execution_count": 44,
   "id": "6d227d82-35cc-469f-ad4f-3bb769974ccd",
   "metadata": {
    "scrolled": true
   },
   "outputs": [],
   "source": [
    "starting_index = 0\n",
    "tt4_start_idx_arr = []\n",
    "for i in tt4_counts:\n",
    "    starting_index += tt4_counts[i]\n",
    "    tt4_start_idx_arr.append(starting_index)"
   ]
  },
  {
   "cell_type": "code",
   "execution_count": 54,
   "id": "549d687a-43a0-4245-9ba8-8a73c3e8637f",
   "metadata": {
    "scrolled": true
   },
   "outputs": [
    {
     "data": {
      "text/plain": [
       "array([ -3,  -1,  -3,  -6,  -2,  -5,  -8,  -6,  -9,  -7, -11, -13, -12,\n",
       "       -14, -16, -17, -14, -13, -15, -15, -17, -21, -20, -23, -27, -28,\n",
       "       -30, -31, -33, -34, -37, -38, -37, -34, -31, -34, -33, -30, -33,\n",
       "       -33, -34, -32, -33, -36, -39, -36, -35, -35, -35, -40, -43, -41,\n",
       "       -40, -40, -38, -42, -46, -43, -43, -46, -47, -47, -48, -51, -52,\n",
       "       -52, -48, -49, -47, -45, -43, -45, -46, -49, -50, -48, -51, -52,\n",
       "       -54, -54, -53, -52, -51, -49, -45, -44, -45, -42, -43, -42, -46,\n",
       "       -43, -44, -42, -43, -44, -47, -48, -47, -42, -42, -41, -39, -42,\n",
       "       -46, -45, -49, -48, -47, -49, -50, -52, -56, -57, -57, -56, -53,\n",
       "       -56, -50, -51, -52, -55, -54, -52, -48, -47, -45, -45, -44, -45,\n",
       "       -44, -49, -48, -45, -45, -42, -41, -39, -40, -40, -42, -44, -44,\n",
       "       -42, -42, -43, -39, -40, -41, -35, -31, -33, -29, -29, -31, -34,\n",
       "       -30, -32, -29, -26, -27, -30, -31, -30, -28, -27, -28, -26, -23,\n",
       "       -15, -14, -12, -15, -17, -21, -20, -17, -15, -15, -14, -17, -18,\n",
       "       -19, -18, -17, -19, -18, -16, -12, -18, -20, -20, -21, -24, -25,\n",
       "       -23, -22, -25, -22, -19, -17, -18, -15, -18, -12, -11, -13, -14,\n",
       "       -15, -16, -15, -17, -21, -23, -21, -22, -19, -18, -17, -15, -16,\n",
       "       -18, -10,  -9,  -4,  -4,  -2,   1,   6,   8,  10,   7,   8,   7,\n",
       "         4,   1,  -1,  -4,  -6,  -5,  -5,  -2,   4,   5,   2,   7,   8,\n",
       "         8,  11,  11,  12,  10,  13,  11,  11,  12,  14,  10,  10,   7,\n",
       "         6,   6,   8,   8,  10,  10,   9,   7,   7,   5,   6,   5,   3,\n",
       "        -1,  -3,  -4,  -4,   0,   1,   1,   1,   2,   5,   4,   1,   0,\n",
       "        -3,  -4,  -4,  -8,  -7,  -7,  -6,  -8,  -8, -10, -10, -10,  -9,\n",
       "        -6,  -4,  -5,  -5,  -1,   0])"
      ]
     },
     "execution_count": 54,
     "metadata": {},
     "output_type": "execute_result"
    }
   ],
   "source": [
    "np.array(start_idx_arr) - np.array(tt4_start_idx_arr)"
   ]
  },
  {
   "cell_type": "code",
   "execution_count": null,
   "id": "7c2920ea-9635-49d7-921d-9498446e60e0",
   "metadata": {},
   "outputs": [],
   "source": []
  },
  {
   "cell_type": "code",
   "execution_count": null,
   "id": "a11eba70-e8b4-4020-ae0d-9a57c0c1971e",
   "metadata": {},
   "outputs": [],
   "source": []
  },
  {
   "cell_type": "code",
   "execution_count": 66,
   "id": "648199e8-b079-4a70-b786-87f7fcd93416",
   "metadata": {},
   "outputs": [
    {
     "data": {
      "text/plain": [
       "'\\nSave spikes, natimg_path_list\\n'"
      ]
     },
     "execution_count": 66,
     "metadata": {},
     "output_type": "execute_result"
    }
   ],
   "source": [
    "'''\n",
    "Save spikes, natimg_path_list\n",
    "'''"
   ]
  },
  {
   "cell_type": "code",
   "execution_count": 47,
   "id": "fd0f05ca-7e66-45e9-a794-efec8e00d8f4",
   "metadata": {},
   "outputs": [],
   "source": [
    "# Save avg_spikes\n",
    "np.save(f'./{year}_{month}_{day}/marm_avg_spikes_{year}{month}{day}', avg_spikes)"
   ]
  },
  {
   "cell_type": "code",
   "execution_count": 48,
   "id": "3cdfd1dc-2a08-42a7-be90-97f925c0d294",
   "metadata": {},
   "outputs": [],
   "source": [
    "# pickle it\n",
    "\n",
    "import pickle\n",
    "\n",
    "with open(f'./{year}_{month}_{day}/natimg_path_list_{year}{month}{day}', 'wb') as fp:   #Pickling\n",
    "    pickle.dump(natimg_path_list, fp)"
   ]
  },
  {
   "cell_type": "code",
   "execution_count": null,
   "id": "289ee91e-359f-4311-9ad6-95fae826dafe",
   "metadata": {},
   "outputs": [],
   "source": []
  },
  {
   "cell_type": "code",
   "execution_count": null,
   "id": "d34a6325-60d1-436f-9aa6-ee2dd6298450",
   "metadata": {},
   "outputs": [],
   "source": []
  },
  {
   "cell_type": "code",
   "execution_count": null,
   "id": "fa967e51-c8f1-4902-9cb3-1858b387b7cc",
   "metadata": {},
   "outputs": [],
   "source": []
  },
  {
   "cell_type": "code",
   "execution_count": null,
   "id": "213d8497-1e61-4d9f-9f8f-1153117ac688",
   "metadata": {},
   "outputs": [],
   "source": [
    "# Get demon matrix for blank stims\n",
    "img_count = len(set(natimg_path_list))\n",
    "img_spikes_tot = np.zeros((ch_tot, max_reps, img_count))\n",
    "\n",
    "for ch in range(ch_tot):\n",
    "    neuron = marm_avg_spikes[:, ch]\n",
    "    count_arr = np.zeros((max_reps, img_count))\n",
    "    count_arr[:] = np.nan\n",
    "    for i in blank_stims_idx:\n",
    "        path = f'/Users/parsatalaie/Downloads/rust_natimgs/Nat300_{i+1}.png'\n",
    "        idx_list = [i for i, j in enumerate(natimg_path_list) if j == path]\n",
    "        for rep, idx in enumerate(idx_list):\n",
    "            count_arr[rep, i] = neuron[idx]\n",
    "    img_spikes_tot[ch] = count_arr"
   ]
  },
  {
   "cell_type": "code",
   "execution_count": 32,
   "id": "d57ea05b-a5bd-49a1-9b98-3c73a5870532",
   "metadata": {},
   "outputs": [],
   "source": [
    "# Create new_ch_depth\n",
    "\n",
    "coords = f['site_coordinates']\n",
    "depth_ch_idx = coords['axis1'][:]\n",
    "\n",
    "new_ch_depth = np.zeros((384))\n",
    "\n",
    "for i in range(384):\n",
    "    idx = depth_ch_idx[i]\n",
    "    new_ch_depth[i] = coords['block0_values'][:][:, 3][idx]"
   ]
  },
  {
   "cell_type": "code",
   "execution_count": 33,
   "id": "250f5228-cdf0-4ceb-a1f8-a17ccdab768c",
   "metadata": {},
   "outputs": [],
   "source": [
    "# Save list of ch depths\n",
    "\n",
    "np.save(f'./{year}_{month}_{day}/ch_depth_{year}{month}{day}', new_ch_depth)"
   ]
  },
  {
   "cell_type": "code",
   "execution_count": 35,
   "id": "f63c0902-cf75-41e4-ab61-389db50911e4",
   "metadata": {},
   "outputs": [
    {
     "data": {
      "text/plain": [
       "array([[0.125, 0.15 , 0.225, ..., 0.   , 0.   , 0.075],\n",
       "       [0.175, 0.125, 0.375, ..., 0.075, 0.05 , 0.   ],\n",
       "       [0.025, 0.   , 0.225, ..., 0.025, 0.   , 0.   ],\n",
       "       ...,\n",
       "       [0.325, 0.   , 0.05 , ..., 0.05 , 0.   , 0.025],\n",
       "       [0.375, 0.   , 0.075, ..., 0.   , 0.   , 0.   ],\n",
       "       [0.025, 0.075, 0.275, ..., 0.075, 0.125, 0.025]])"
      ]
     },
     "execution_count": 35,
     "metadata": {},
     "output_type": "execute_result"
    }
   ],
   "source": [
    "avg_spikes"
   ]
  },
  {
   "cell_type": "code",
   "execution_count": null,
   "id": "7c9e1b37-c5c7-47e6-83df-10879ec7ca24",
   "metadata": {},
   "outputs": [],
   "source": []
  },
  {
   "cell_type": "code",
   "execution_count": 27,
   "id": "39aca488-0114-4b81-bb76-8f377108999f",
   "metadata": {},
   "outputs": [
    {
     "name": "stderr",
     "output_type": "stream",
     "text": [
      "/opt/anaconda3/lib/python3.12/site-packages/tables/attributeset.py:290: DataTypeWarning: Unsupported type for attribute 'scenefile_by_stim_mat' in node '/'. Offending HDF5 class: 8\n",
      "  value = self._g_getattr(self._v_node, name)\n"
     ]
    }
   ],
   "source": [
    "# Site coords df (if necessary)\n",
    "\n",
    "site_coords_df = pd.read_hdf(pathname, 'site_coordinates', 'r')"
   ]
  },
  {
   "cell_type": "code",
   "execution_count": 14,
   "id": "68c18ef0-d5c8-4919-93fd-a0064e56a1be",
   "metadata": {
    "jupyter": {
     "source_hidden": true
    },
    "scrolled": true
   },
   "outputs": [
    {
     "name": "stdout",
     "output_type": "stream",
     "text": [
      "51\n"
     ]
    }
   ],
   "source": [
    "# Goal: get idx of blank_stims\n",
    "\n",
    "blank_stims_idx = []\n",
    "blank_img_idx = np.array([301, 302, 303, 304, 305]) - 1\n",
    "\n",
    "for i in blank_img_idx:\n",
    "    path = f'/Users/parsatalaie/Downloads/rust_natimgs/Nat300_{i+1}.png'\n",
    "    idx_list = [i for i, j in enumerate(natimg_path_list) if j == path]\n",
    "    for idx in idx_list:\n",
    "        blank_stims_idx.append(idx)\n",
    "\n",
    "print(len(blank_stims_idx))"
   ]
  },
  {
   "cell_type": "code",
   "execution_count": 13,
   "id": "fc13a96c-e9ad-45e7-8471-c04488cf1cd8",
   "metadata": {
    "collapsed": true,
    "jupyter": {
     "outputs_hidden": true,
     "source_hidden": true
    }
   },
   "outputs": [
    {
     "ename": "FileNotFoundError",
     "evalue": "[Errno 2] No such file or directory: './2024_11_08/natimg_path_list_20241108'",
     "output_type": "error",
     "traceback": [
      "\u001b[0;31m---------------------------------------------------------------------------\u001b[0m",
      "\u001b[0;31mFileNotFoundError\u001b[0m                         Traceback (most recent call last)",
      "Cell \u001b[0;32mIn[13], line 3\u001b[0m\n\u001b[1;32m      1\u001b[0m \u001b[38;5;66;03m# load natimg_path_list\u001b[39;00m\n\u001b[0;32m----> 3\u001b[0m \u001b[38;5;28;01mwith\u001b[39;00m \u001b[38;5;28mopen\u001b[39m(\u001b[38;5;124mf\u001b[39m\u001b[38;5;124m'\u001b[39m\u001b[38;5;124m./\u001b[39m\u001b[38;5;132;01m{\u001b[39;00myear\u001b[38;5;132;01m}\u001b[39;00m\u001b[38;5;124m_\u001b[39m\u001b[38;5;132;01m{\u001b[39;00mmonth\u001b[38;5;132;01m}\u001b[39;00m\u001b[38;5;124m_\u001b[39m\u001b[38;5;132;01m{\u001b[39;00mday\u001b[38;5;132;01m}\u001b[39;00m\u001b[38;5;124m/natimg_path_list_\u001b[39m\u001b[38;5;132;01m{\u001b[39;00myear\u001b[38;5;132;01m}\u001b[39;00m\u001b[38;5;132;01m{\u001b[39;00mmonth\u001b[38;5;132;01m}\u001b[39;00m\u001b[38;5;132;01m{\u001b[39;00mday\u001b[38;5;132;01m}\u001b[39;00m\u001b[38;5;124m'\u001b[39m, \u001b[38;5;124m'\u001b[39m\u001b[38;5;124mrb\u001b[39m\u001b[38;5;124m'\u001b[39m) \u001b[38;5;28;01mas\u001b[39;00m fp:   \u001b[38;5;66;03m# Unpickling\u001b[39;00m\n\u001b[1;32m      4\u001b[0m     natimg_path_list \u001b[38;5;241m=\u001b[39m pickle\u001b[38;5;241m.\u001b[39mload(fp)\n\u001b[1;32m      6\u001b[0m \u001b[38;5;28mlen\u001b[39m(natimg_path_list)\n",
      "File \u001b[0;32m/opt/anaconda3/lib/python3.12/site-packages/IPython/core/interactiveshell.py:324\u001b[0m, in \u001b[0;36m_modified_open\u001b[0;34m(file, *args, **kwargs)\u001b[0m\n\u001b[1;32m    317\u001b[0m \u001b[38;5;28;01mif\u001b[39;00m file \u001b[38;5;129;01min\u001b[39;00m {\u001b[38;5;241m0\u001b[39m, \u001b[38;5;241m1\u001b[39m, \u001b[38;5;241m2\u001b[39m}:\n\u001b[1;32m    318\u001b[0m     \u001b[38;5;28;01mraise\u001b[39;00m \u001b[38;5;167;01mValueError\u001b[39;00m(\n\u001b[1;32m    319\u001b[0m         \u001b[38;5;124mf\u001b[39m\u001b[38;5;124m\"\u001b[39m\u001b[38;5;124mIPython won\u001b[39m\u001b[38;5;124m'\u001b[39m\u001b[38;5;124mt let you open fd=\u001b[39m\u001b[38;5;132;01m{\u001b[39;00mfile\u001b[38;5;132;01m}\u001b[39;00m\u001b[38;5;124m by default \u001b[39m\u001b[38;5;124m\"\u001b[39m\n\u001b[1;32m    320\u001b[0m         \u001b[38;5;124m\"\u001b[39m\u001b[38;5;124mas it is likely to crash IPython. If you know what you are doing, \u001b[39m\u001b[38;5;124m\"\u001b[39m\n\u001b[1;32m    321\u001b[0m         \u001b[38;5;124m\"\u001b[39m\u001b[38;5;124myou can use builtins\u001b[39m\u001b[38;5;124m'\u001b[39m\u001b[38;5;124m open.\u001b[39m\u001b[38;5;124m\"\u001b[39m\n\u001b[1;32m    322\u001b[0m     )\n\u001b[0;32m--> 324\u001b[0m \u001b[38;5;28;01mreturn\u001b[39;00m io_open(file, \u001b[38;5;241m*\u001b[39margs, \u001b[38;5;241m*\u001b[39m\u001b[38;5;241m*\u001b[39mkwargs)\n",
      "\u001b[0;31mFileNotFoundError\u001b[0m: [Errno 2] No such file or directory: './2024_11_08/natimg_path_list_20241108'"
     ]
    }
   ],
   "source": [
    "# load natimg_path_list\n",
    "\n",
    "with open(f'./{year}_{month}_{day}/natimg_path_list_{year}{month}{day}', 'rb') as fp:   # Unpickling\n",
    "    natimg_path_list = pickle.load(fp)\n",
    "\n",
    "len(natimg_path_list)"
   ]
  },
  {
   "cell_type": "code",
   "execution_count": 18,
   "id": "dbb6641f-dadc-48a9-a0b1-2d15267ca9bd",
   "metadata": {
    "jupyter": {
     "source_hidden": true
    },
    "scrolled": true
   },
   "outputs": [
    {
     "data": {
      "image/png": "[encoded data removed]",
      "text/plain": [
       "<Figure size 1200x1600 with 2 Axes>"
      ]
     },
     "metadata": {},
     "output_type": "display_data"
    }
   ],
   "source": [
    "# Plot bins for regular stims\n",
    "if blank_or_nonblank == 'nonblank':\n",
    "    data = np.delete(fixed_spikes, blank_stims_idx, axis=2).mean(axis=2)\n",
    "elif blank_or_nonblank == 'blank':\n",
    "    data = fixed_spikes[:, :, blank_stims_idx].mean(axis=2)\n",
    "\n",
    "# Create the plot\n",
    "fig, ax = plt.subplots(figsize=(12, 16))\n",
    "\n",
    "# Plot the heatmap\n",
    "im = ax.imshow(data, aspect='auto', cmap='hot', interpolation='nearest')\n",
    "\n",
    "# Set the colorbar\n",
    "cbar = plt.colorbar(im)\n",
    "cbar.set_label('Value')\n",
    "\n",
    "# Set labels and title\n",
    "ax.set_xlabel('time(seconds) from stimulus onset')\n",
    "ax.set_ylabel('ch num')\n",
    "ax.set_title(f'Response to {blank_or_nonblank} stimuli, {year}/{month}/{day}')\n",
    "\n",
    "# Set x-axis ticks and labels'\n",
    "num_xticks = 12\n",
    "x_ticks = np.linspace(0, bin_tot-1, num_xticks)\n",
    "x_labels = [f'{x:.2f}' for x in np.linspace(-0.1, 0.4, num_xticks)]\n",
    "ax.set_xticks(x_ticks)\n",
    "ax.set_xticklabels(x_labels)\n",
    "\n",
    "# Set y-axis ticks and labels\n",
    "y_ticks = np.arange(0, 383, 20)\n",
    "ax.set_yticks(y_ticks)\n",
    "\n",
    "# Invert the y-axis\n",
    "ax.invert_yaxis()\n",
    "\n",
    "# Adjust the layout and display the plot\n",
    "plt.tight_layout()\n",
    "plt.savefig(f'./{year}_{month}_{day}/{blank_or_nonblank}_responses_{year}{month}{day}')\n",
    "plt.show()"
   ]
  },
  {
   "cell_type": "code",
   "execution_count": 20,
   "id": "c78e533f-9d71-4b6d-8ee0-438a30294e2a",
   "metadata": {},
   "outputs": [
    {
     "name": "stdout",
     "output_type": "stream",
     "text": [
      "[0.09341635 0.09432518 0.09694715 0.10231573 0.1113289  0.11779906\n",
      " 0.12005874 0.11758463 0.11367528 0.11045723 0.10871777 0.10831444]\n"
     ]
    }
   ],
   "source": [
    "# Get bin fire avgs\n",
    "\n",
    "bin_fire_avg = np.zeros((bin_tot))\n",
    "\n",
    "for i in range(bin_tot):\n",
    "    bin_fire_avg[i] = np.mean(fixed_spikes[:, i, :])\n",
    "\n",
    "print(bin_fire_avg)"
   ]
  },
  {
   "cell_type": "code",
   "execution_count": 21,
   "id": "c70c350f-10d7-46ee-8c23-51ceefaaad49",
   "metadata": {
    "collapsed": true,
    "jupyter": {
     "outputs_hidden": true,
     "source_hidden": true
    }
   },
   "outputs": [
    {
     "data": {
      "image/png": "[encoded data removed]",
      "text/plain": [
       "<Figure size 640x480 with 1 Axes>"
      ]
     },
     "metadata": {},
     "output_type": "display_data"
    }
   ],
   "source": [
    "# Create some plots to check for visual drive\n",
    "\n",
    "fixed_stim_tot = fixed_spikes.shape[2]\n",
    "\n",
    "stim_test = 100\n",
    "for i in range(10):\n",
    "    plt.plot(fixed_spikes[10*i, :, stim_test])\n",
    "\n",
    "plt.show()"
   ]
  },
  {
   "cell_type": "code",
   "execution_count": 23,
   "id": "46c4c430-512e-44d7-aaa7-e2a9d21d06ff",
   "metadata": {
    "jupyter": {
     "source_hidden": true
    }
   },
   "outputs": [
    {
     "name": "stdout",
     "output_type": "stream",
     "text": [
      "Firing for blank stims: nan\n",
      "Firing for all stims: nan\n"
     ]
    },
    {
     "name": "stderr",
     "output_type": "stream",
     "text": [
      "/var/folders/y0/qxlgfr6961b36tyhj2p5y0c00000gn/T/ipykernel_51411/438928454.py:8: RuntimeWarning: Mean of empty slice.\n",
      "  print(f'Firing for blank stims: {blank_fire_avg[13:31].mean()}')\n",
      "/opt/anaconda3/lib/python3.12/site-packages/numpy/core/_methods.py:129: RuntimeWarning: invalid value encountered in scalar divide\n",
      "  ret = ret.dtype.type(ret / rcount)\n",
      "/var/folders/y0/qxlgfr6961b36tyhj2p5y0c00000gn/T/ipykernel_51411/438928454.py:10: RuntimeWarning: Mean of empty slice.\n",
      "  print(f'Firing for all stims: {bin_fire_avg[13:31].mean()}')\n"
     ]
    }
   ],
   "source": [
    "# Compare firing for blank/all stim\n",
    "\n",
    "blank_fire_avg = np.zeros((bin_tot))\n",
    "\n",
    "for i in range(bin_tot):\n",
    "    blank_fire_avg[i] = np.mean(fixed_spikes[:, i, 3313:3364])\n",
    "\n",
    "print(f'Firing for blank stims: {blank_fire_avg[13:31].mean()}')\n",
    "\n",
    "print(f'Firing for all stims: {bin_fire_avg[13:31].mean()}')"
   ]
  }
 ],
 "metadata": {
  "kernelspec": {
   "display_name": "Python 3 (ipykernel)",
   "language": "python",
   "name": "python3"
  },
  "language_info": {
   "codemirror_mode": {
    "name": "ipython",
    "version": 3
   },
   "file_extension": ".py",
   "mimetype": "text/x-python",
   "name": "python",
   "nbconvert_exporter": "python",
   "pygments_lexer": "ipython3",
   "version": "3.12.4"
  }
 },
 "nbformat": 4,
 "nbformat_minor": 5
}
